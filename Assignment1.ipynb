{
 "cells": [
  {
   "cell_type": "markdown",
   "metadata": {},
   "source": [
    "## Decision trees with some form of pruning\n",
    "\n",
    "## Neural networks\n",
    "\n",
    "## Boosting\n",
    "\n",
    "## Support Vector Machines\n",
    "\n",
    "## k-nearest neighbors"
   ]
  },
  {
   "cell_type": "code",
   "execution_count": 3,
   "metadata": {},
   "outputs": [],
   "source": [
    "import numpy as np\n",
    "import pandas as pd\n",
    "import timeit\n",
    "from sklearn.model_selection import cross_val_score, RandomizedSearchCV, learning_curve, ShuffleSplit\n",
    "from sklearn.metrics import auc, roc_curve, confusion_matrix\n",
    "from sklearn import metrics\n",
    "from sklearn.model_selection import train_test_split\n",
    "from sklearn.model_selection import cross_val_score\n",
    "from sklearn.tree import DecisionTreeClassifier\n",
    "from sklearn.neighbors import KNeighborsClassifier\n",
    "from sklearn.neural_network import MLPClassifier\n",
    "from sklearn.svm import SVC\n",
    "from sklearn.ensemble import GradientBoostingClassifier\n",
    "from sklearn.ensemble import AdaBoostClassifier\n",
    "from sklearn import preprocessing\n",
    "import itertools\n",
    "import seaborn as sns\n",
    "import matplotlib.pyplot as plt\n",
    "\n",
    "cc = pd.read_csv(\"data/creditcard.csv\")\n",
    "zoo = pd.read_csv(\"data/zoo.csv\")"
   ]
  },
  {
   "cell_type": "markdown",
   "metadata": {},
   "source": [
    "### EXPLORATORY DATA ANALYSIS"
   ]
  },
  {
   "cell_type": "code",
   "execution_count": 4,
   "metadata": {},
   "outputs": [
    {
     "data": {
      "text/html": [
       "<div>\n",
       "<style scoped>\n",
       "    .dataframe tbody tr th:only-of-type {\n",
       "        vertical-align: middle;\n",
       "    }\n",
       "\n",
       "    .dataframe tbody tr th {\n",
       "        vertical-align: top;\n",
       "    }\n",
       "\n",
       "    .dataframe thead th {\n",
       "        text-align: right;\n",
       "    }\n",
       "</style>\n",
       "<table border=\"1\" class=\"dataframe\">\n",
       "  <thead>\n",
       "    <tr style=\"text-align: right;\">\n",
       "      <th></th>\n",
       "      <th>Time</th>\n",
       "      <th>V1</th>\n",
       "      <th>V2</th>\n",
       "      <th>V3</th>\n",
       "      <th>V4</th>\n",
       "      <th>V5</th>\n",
       "      <th>V6</th>\n",
       "      <th>V7</th>\n",
       "      <th>V8</th>\n",
       "      <th>V9</th>\n",
       "      <th>...</th>\n",
       "      <th>V21</th>\n",
       "      <th>V22</th>\n",
       "      <th>V23</th>\n",
       "      <th>V24</th>\n",
       "      <th>V25</th>\n",
       "      <th>V26</th>\n",
       "      <th>V27</th>\n",
       "      <th>V28</th>\n",
       "      <th>Amount</th>\n",
       "      <th>Class</th>\n",
       "    </tr>\n",
       "  </thead>\n",
       "  <tbody>\n",
       "    <tr>\n",
       "      <th>0</th>\n",
       "      <td>0.0</td>\n",
       "      <td>-1.359807</td>\n",
       "      <td>-0.072781</td>\n",
       "      <td>2.536347</td>\n",
       "      <td>1.378155</td>\n",
       "      <td>-0.338321</td>\n",
       "      <td>0.462388</td>\n",
       "      <td>0.239599</td>\n",
       "      <td>0.098698</td>\n",
       "      <td>0.363787</td>\n",
       "      <td>...</td>\n",
       "      <td>-0.018307</td>\n",
       "      <td>0.277838</td>\n",
       "      <td>-0.110474</td>\n",
       "      <td>0.066928</td>\n",
       "      <td>0.128539</td>\n",
       "      <td>-0.189115</td>\n",
       "      <td>0.133558</td>\n",
       "      <td>-0.021053</td>\n",
       "      <td>149.62</td>\n",
       "      <td>0</td>\n",
       "    </tr>\n",
       "    <tr>\n",
       "      <th>1</th>\n",
       "      <td>0.0</td>\n",
       "      <td>1.191857</td>\n",
       "      <td>0.266151</td>\n",
       "      <td>0.166480</td>\n",
       "      <td>0.448154</td>\n",
       "      <td>0.060018</td>\n",
       "      <td>-0.082361</td>\n",
       "      <td>-0.078803</td>\n",
       "      <td>0.085102</td>\n",
       "      <td>-0.255425</td>\n",
       "      <td>...</td>\n",
       "      <td>-0.225775</td>\n",
       "      <td>-0.638672</td>\n",
       "      <td>0.101288</td>\n",
       "      <td>-0.339846</td>\n",
       "      <td>0.167170</td>\n",
       "      <td>0.125895</td>\n",
       "      <td>-0.008983</td>\n",
       "      <td>0.014724</td>\n",
       "      <td>2.69</td>\n",
       "      <td>0</td>\n",
       "    </tr>\n",
       "    <tr>\n",
       "      <th>2</th>\n",
       "      <td>1.0</td>\n",
       "      <td>-1.358354</td>\n",
       "      <td>-1.340163</td>\n",
       "      <td>1.773209</td>\n",
       "      <td>0.379780</td>\n",
       "      <td>-0.503198</td>\n",
       "      <td>1.800499</td>\n",
       "      <td>0.791461</td>\n",
       "      <td>0.247676</td>\n",
       "      <td>-1.514654</td>\n",
       "      <td>...</td>\n",
       "      <td>0.247998</td>\n",
       "      <td>0.771679</td>\n",
       "      <td>0.909412</td>\n",
       "      <td>-0.689281</td>\n",
       "      <td>-0.327642</td>\n",
       "      <td>-0.139097</td>\n",
       "      <td>-0.055353</td>\n",
       "      <td>-0.059752</td>\n",
       "      <td>378.66</td>\n",
       "      <td>0</td>\n",
       "    </tr>\n",
       "    <tr>\n",
       "      <th>3</th>\n",
       "      <td>1.0</td>\n",
       "      <td>-0.966272</td>\n",
       "      <td>-0.185226</td>\n",
       "      <td>1.792993</td>\n",
       "      <td>-0.863291</td>\n",
       "      <td>-0.010309</td>\n",
       "      <td>1.247203</td>\n",
       "      <td>0.237609</td>\n",
       "      <td>0.377436</td>\n",
       "      <td>-1.387024</td>\n",
       "      <td>...</td>\n",
       "      <td>-0.108300</td>\n",
       "      <td>0.005274</td>\n",
       "      <td>-0.190321</td>\n",
       "      <td>-1.175575</td>\n",
       "      <td>0.647376</td>\n",
       "      <td>-0.221929</td>\n",
       "      <td>0.062723</td>\n",
       "      <td>0.061458</td>\n",
       "      <td>123.50</td>\n",
       "      <td>0</td>\n",
       "    </tr>\n",
       "    <tr>\n",
       "      <th>4</th>\n",
       "      <td>2.0</td>\n",
       "      <td>-1.158233</td>\n",
       "      <td>0.877737</td>\n",
       "      <td>1.548718</td>\n",
       "      <td>0.403034</td>\n",
       "      <td>-0.407193</td>\n",
       "      <td>0.095921</td>\n",
       "      <td>0.592941</td>\n",
       "      <td>-0.270533</td>\n",
       "      <td>0.817739</td>\n",
       "      <td>...</td>\n",
       "      <td>-0.009431</td>\n",
       "      <td>0.798278</td>\n",
       "      <td>-0.137458</td>\n",
       "      <td>0.141267</td>\n",
       "      <td>-0.206010</td>\n",
       "      <td>0.502292</td>\n",
       "      <td>0.219422</td>\n",
       "      <td>0.215153</td>\n",
       "      <td>69.99</td>\n",
       "      <td>0</td>\n",
       "    </tr>\n",
       "  </tbody>\n",
       "</table>\n",
       "<p>5 rows × 31 columns</p>\n",
       "</div>"
      ],
      "text/plain": [
       "   Time        V1        V2        V3        V4        V5        V6        V7  \\\n",
       "0   0.0 -1.359807 -0.072781  2.536347  1.378155 -0.338321  0.462388  0.239599   \n",
       "1   0.0  1.191857  0.266151  0.166480  0.448154  0.060018 -0.082361 -0.078803   \n",
       "2   1.0 -1.358354 -1.340163  1.773209  0.379780 -0.503198  1.800499  0.791461   \n",
       "3   1.0 -0.966272 -0.185226  1.792993 -0.863291 -0.010309  1.247203  0.237609   \n",
       "4   2.0 -1.158233  0.877737  1.548718  0.403034 -0.407193  0.095921  0.592941   \n",
       "\n",
       "         V8        V9  ...         V21       V22       V23       V24  \\\n",
       "0  0.098698  0.363787  ...   -0.018307  0.277838 -0.110474  0.066928   \n",
       "1  0.085102 -0.255425  ...   -0.225775 -0.638672  0.101288 -0.339846   \n",
       "2  0.247676 -1.514654  ...    0.247998  0.771679  0.909412 -0.689281   \n",
       "3  0.377436 -1.387024  ...   -0.108300  0.005274 -0.190321 -1.175575   \n",
       "4 -0.270533  0.817739  ...   -0.009431  0.798278 -0.137458  0.141267   \n",
       "\n",
       "        V25       V26       V27       V28  Amount  Class  \n",
       "0  0.128539 -0.189115  0.133558 -0.021053  149.62      0  \n",
       "1  0.167170  0.125895 -0.008983  0.014724    2.69      0  \n",
       "2 -0.327642 -0.139097 -0.055353 -0.059752  378.66      0  \n",
       "3  0.647376 -0.221929  0.062723  0.061458  123.50      0  \n",
       "4 -0.206010  0.502292  0.219422  0.215153   69.99      0  \n",
       "\n",
       "[5 rows x 31 columns]"
      ]
     },
     "execution_count": 4,
     "metadata": {},
     "output_type": "execute_result"
    }
   ],
   "source": [
    "cc.head()"
   ]
  },
  {
   "cell_type": "code",
   "execution_count": 5,
   "metadata": {},
   "outputs": [
    {
     "data": {
      "text/plain": [
       "<matplotlib.axes._subplots.AxesSubplot at 0x14b75f1e0f0>"
      ]
     },
     "execution_count": 5,
     "metadata": {},
     "output_type": "execute_result"
    },
    {
     "data": {
      "image/png": "[encoded data removed]",
      "text/plain": [
       "<Figure size 432x288 with 1 Axes>"
      ]
     },
     "metadata": {},
     "output_type": "display_data"
    }
   ],
   "source": [
    "sns.countplot(cc['Class'],label=\"Count\")"
   ]
  },
  {
   "cell_type": "code",
   "execution_count": 6,
   "metadata": {},
   "outputs": [
    {
     "data": {
      "text/html": [
       "<div>\n",
       "<style scoped>\n",
       "    .dataframe tbody tr th:only-of-type {\n",
       "        vertical-align: middle;\n",
       "    }\n",
       "\n",
       "    .dataframe tbody tr th {\n",
       "        vertical-align: top;\n",
       "    }\n",
       "\n",
       "    .dataframe thead th {\n",
       "        text-align: right;\n",
       "    }\n",
       "</style>\n",
       "<table border=\"1\" class=\"dataframe\">\n",
       "  <thead>\n",
       "    <tr style=\"text-align: right;\">\n",
       "      <th></th>\n",
       "      <th>animal_name</th>\n",
       "      <th>hair</th>\n",
       "      <th>feathers</th>\n",
       "      <th>eggs</th>\n",
       "      <th>milk</th>\n",
       "      <th>airborne</th>\n",
       "      <th>aquatic</th>\n",
       "      <th>predator</th>\n",
       "      <th>toothed</th>\n",
       "      <th>backbone</th>\n",
       "      <th>breathes</th>\n",
       "      <th>venomous</th>\n",
       "      <th>fins</th>\n",
       "      <th>legs</th>\n",
       "      <th>tail</th>\n",
       "      <th>domestic</th>\n",
       "      <th>catsize</th>\n",
       "      <th>class_type</th>\n",
       "    </tr>\n",
       "  </thead>\n",
       "  <tbody>\n",
       "    <tr>\n",
       "      <th>0</th>\n",
       "      <td>aardvark</td>\n",
       "      <td>1</td>\n",
       "      <td>0</td>\n",
       "      <td>0</td>\n",
       "      <td>1</td>\n",
       "      <td>0</td>\n",
       "      <td>0</td>\n",
       "      <td>1</td>\n",
       "      <td>1</td>\n",
       "      <td>1</td>\n",
       "      <td>1</td>\n",
       "      <td>0</td>\n",
       "      <td>0</td>\n",
       "      <td>4</td>\n",
       "      <td>0</td>\n",
       "      <td>0</td>\n",
       "      <td>1</td>\n",
       "      <td>1</td>\n",
       "    </tr>\n",
       "    <tr>\n",
       "      <th>1</th>\n",
       "      <td>antelope</td>\n",
       "      <td>1</td>\n",
       "      <td>0</td>\n",
       "      <td>0</td>\n",
       "      <td>1</td>\n",
       "      <td>0</td>\n",
       "      <td>0</td>\n",
       "      <td>0</td>\n",
       "      <td>1</td>\n",
       "      <td>1</td>\n",
       "      <td>1</td>\n",
       "      <td>0</td>\n",
       "      <td>0</td>\n",
       "      <td>4</td>\n",
       "      <td>1</td>\n",
       "      <td>0</td>\n",
       "      <td>1</td>\n",
       "      <td>1</td>\n",
       "    </tr>\n",
       "    <tr>\n",
       "      <th>2</th>\n",
       "      <td>bass</td>\n",
       "      <td>0</td>\n",
       "      <td>0</td>\n",
       "      <td>1</td>\n",
       "      <td>0</td>\n",
       "      <td>0</td>\n",
       "      <td>1</td>\n",
       "      <td>1</td>\n",
       "      <td>1</td>\n",
       "      <td>1</td>\n",
       "      <td>0</td>\n",
       "      <td>0</td>\n",
       "      <td>1</td>\n",
       "      <td>0</td>\n",
       "      <td>1</td>\n",
       "      <td>0</td>\n",
       "      <td>0</td>\n",
       "      <td>4</td>\n",
       "    </tr>\n",
       "    <tr>\n",
       "      <th>3</th>\n",
       "      <td>bear</td>\n",
       "      <td>1</td>\n",
       "      <td>0</td>\n",
       "      <td>0</td>\n",
       "      <td>1</td>\n",
       "      <td>0</td>\n",
       "      <td>0</td>\n",
       "      <td>1</td>\n",
       "      <td>1</td>\n",
       "      <td>1</td>\n",
       "      <td>1</td>\n",
       "      <td>0</td>\n",
       "      <td>0</td>\n",
       "      <td>4</td>\n",
       "      <td>0</td>\n",
       "      <td>0</td>\n",
       "      <td>1</td>\n",
       "      <td>1</td>\n",
       "    </tr>\n",
       "    <tr>\n",
       "      <th>4</th>\n",
       "      <td>boar</td>\n",
       "      <td>1</td>\n",
       "      <td>0</td>\n",
       "      <td>0</td>\n",
       "      <td>1</td>\n",
       "      <td>0</td>\n",
       "      <td>0</td>\n",
       "      <td>1</td>\n",
       "      <td>1</td>\n",
       "      <td>1</td>\n",
       "      <td>1</td>\n",
       "      <td>0</td>\n",
       "      <td>0</td>\n",
       "      <td>4</td>\n",
       "      <td>1</td>\n",
       "      <td>0</td>\n",
       "      <td>1</td>\n",
       "      <td>1</td>\n",
       "    </tr>\n",
       "  </tbody>\n",
       "</table>\n",
       "</div>"
      ],
      "text/plain": [
       "  animal_name  hair  feathers  eggs  milk  airborne  aquatic  predator  \\\n",
       "0    aardvark     1         0     0     1         0        0         1   \n",
       "1    antelope     1         0     0     1         0        0         0   \n",
       "2        bass     0         0     1     0         0        1         1   \n",
       "3        bear     1         0     0     1         0        0         1   \n",
       "4        boar     1         0     0     1         0        0         1   \n",
       "\n",
       "   toothed  backbone  breathes  venomous  fins  legs  tail  domestic  catsize  \\\n",
       "0        1         1         1         0     0     4     0         0        1   \n",
       "1        1         1         1         0     0     4     1         0        1   \n",
       "2        1         1         0         0     1     0     1         0        0   \n",
       "3        1         1         1         0     0     4     0         0        1   \n",
       "4        1         1         1         0     0     4     1         0        1   \n",
       "\n",
       "   class_type  \n",
       "0           1  \n",
       "1           1  \n",
       "2           4  \n",
       "3           1  \n",
       "4           1  "
      ]
     },
     "execution_count": 6,
     "metadata": {},
     "output_type": "execute_result"
    }
   ],
   "source": [
    "zoo.head()"
   ]
  },
  {
   "cell_type": "code",
   "execution_count": 7,
   "metadata": {},
   "outputs": [
    {
     "data": {
      "text/plain": [
       "<matplotlib.axes._subplots.AxesSubplot at 0x14b00b2dc18>"
      ]
     },
     "execution_count": 7,
     "metadata": {},
     "output_type": "execute_result"
    },
    {
     "data": {
      "image/png": "[encoded data removed]",
      "text/plain": [
       "<Figure size 432x288 with 1 Axes>"
      ]
     },
     "metadata": {},
     "output_type": "display_data"
    }
   ],
   "source": [
    "sns.countplot(zoo['class_type'],label=\"Count\")"
   ]
  },
  {
   "cell_type": "markdown",
   "metadata": {},
   "source": [
    "### Train & Test"
   ]
  },
  {
   "cell_type": "code",
   "execution_count": 8,
   "metadata": {},
   "outputs": [
    {
     "name": "stdout",
     "output_type": "stream",
     "text": [
      "Credit Card Data:\n",
      "Feature Data : (284807, 30)\n",
      "Label Data : (284807, 1)\n",
      "\n",
      "Zoo Data:\n",
      "Feature Data : (101, 16)\n",
      "Label Data : (101, 1)\n"
     ]
    }
   ],
   "source": [
    "from sklearn.model_selection import train_test_split\n",
    "\n",
    "y_cc = cc.iloc[:,-1:]\n",
    "x_cc = cc.iloc[:,:-1]\n",
    "\n",
    "print(\"Credit Card Data:\")\n",
    "print(\"Feature Data :\", x_cc.shape)\n",
    "print(\"Label Data :\", y_cc.shape)\n",
    "\n",
    "x_cc_train, x_cc_test, y_cc_train, y_cc_test = train_test_split(x_cc, y_cc, random_state=100, stratify=y_cc)\n",
    "\n",
    "from sklearn import preprocessing\n",
    "\n",
    "y_zoo = zoo.iloc[:,-1:]\n",
    "x_zoo = zoo.iloc[:,1:-1]\n",
    "\n",
    "print(\"\\nZoo Data:\")\n",
    "print(\"Feature Data :\", x_zoo.shape)\n",
    "print(\"Label Data :\", y_zoo.shape)\n",
    "\n",
    "x_zoo_train, x_zoo_test, y_zoo_train, y_zoo_test = train_test_split(x_zoo, y_zoo, test_size=0.3, random_state=100, stratify=y_zoo)"
   ]
  },
  {
   "cell_type": "code",
   "execution_count": 9,
   "metadata": {},
   "outputs": [],
   "source": [
    "# Code taken from Sklearn\n",
    "# https://scikit-learn.org/stable/auto_examples/model_selection/plot_learning_curve.html#sphx-glr-auto-examples-model-selection-plot-learning-curve-py\n",
    "def plot_learning_curve(estimator, title, X, y, ylim=None, cv=None,\n",
    "                        n_jobs=None, train_sizes=np.linspace(.1, 1.0, 5)):\n",
    "    \"\"\"\n",
    "    Generate a simple plot of the test and training learning curve.\n",
    "\n",
    "    Parameters\n",
    "    ----------\n",
    "    estimator : object type that implements the \"fit\" and \"predict\" methods\n",
    "        An object of that type which is cloned for each validation.\n",
    "\n",
    "    title : string\n",
    "        Title for the chart.\n",
    "\n",
    "    X : array-like, shape (n_samples, n_features)\n",
    "        Training vector, where n_samples is the number of samples and\n",
    "        n_features is the number of features.\n",
    "\n",
    "    y : array-like, shape (n_samples) or (n_samples, n_features), optional\n",
    "        Target relative to X for classification or regression;\n",
    "        None for unsupervised learning.\n",
    "\n",
    "    ylim : tuple, shape (ymin, ymax), optional\n",
    "        Defines minimum and maximum yvalues plotted.\n",
    "\n",
    "    cv : int, cross-validation generator or an iterable, optional\n",
    "        Determines the cross-validation splitting strategy.\n",
    "        Possible inputs for cv are:\n",
    "          - None, to use the default 3-fold cross-validation,\n",
    "          - integer, to specify the number of folds.\n",
    "          - :term:`CV splitter`,\n",
    "          - An iterable yielding (train, test) splits as arrays of indices.\n",
    "\n",
    "        For integer/None inputs, if ``y`` is binary or multiclass,\n",
    "        :class:`StratifiedKFold` used. If the estimator is not a classifier\n",
    "        or if ``y`` is neither binary nor multiclass, :class:`KFold` is used.\n",
    "\n",
    "        Refer :ref:`User Guide <cross_validation>` for the various\n",
    "        cross-validators that can be used here.\n",
    "\n",
    "    n_jobs : int or None, optional (default=None)\n",
    "        Number of jobs to run in parallel.\n",
    "        ``None`` means 1 unless in a :obj:`joblib.parallel_backend` context.\n",
    "        ``-1`` means using all processors. See :term:`Glossary <n_jobs>`\n",
    "        for more details.\n",
    "\n",
    "    train_sizes : array-like, shape (n_ticks,), dtype float or int\n",
    "        Relative or absolute numbers of training examples that will be used to\n",
    "        generate the learning curve. If the dtype is float, it is regarded as a\n",
    "        fraction of the maximum size of the training set (that is determined\n",
    "        by the selected validation method), i.e. it has to be within (0, 1].\n",
    "        Otherwise it is interpreted as absolute sizes of the training sets.\n",
    "        Note that for classification the number of samples usually have to\n",
    "        be big enough to contain at least one sample from each class.\n",
    "        (default: np.linspace(0.1, 1.0, 5))\n",
    "    \"\"\"\n",
    "    plt.figure()\n",
    "    plt.title(title)\n",
    "    if ylim is not None:\n",
    "        plt.ylim(*ylim)\n",
    "    plt.xlabel(\"Training examples\")\n",
    "    plt.ylabel(\"Score\")\n",
    "    train_sizes, train_scores, test_scores = learning_curve(\n",
    "        estimator, X, y, cv=cv, n_jobs=n_jobs, train_sizes=train_sizes)\n",
    "    train_scores_mean = np.mean(train_scores, axis=1)\n",
    "    train_scores_std = np.std(train_scores, axis=1)\n",
    "    test_scores_mean = np.mean(test_scores, axis=1)\n",
    "    test_scores_std = np.std(test_scores, axis=1)\n",
    "    plt.grid()\n",
    "\n",
    "    plt.fill_between(train_sizes, train_scores_mean - train_scores_std,\n",
    "                     train_scores_mean + train_scores_std, alpha=0.1,\n",
    "                     color=\"r\")\n",
    "    plt.fill_between(train_sizes, test_scores_mean - test_scores_std,\n",
    "                     test_scores_mean + test_scores_std, alpha=0.1, color=\"g\")\n",
    "    plt.plot(train_sizes, train_scores_mean, 'o-', color=\"r\",\n",
    "             label=\"Training score\")\n",
    "    plt.plot(train_sizes, test_scores_mean, 'o-', color=\"g\",\n",
    "             label=\"Cross-validation score\")\n",
    "\n",
    "    plt.legend(loc=\"best\")\n",
    "    return plt"
   ]
  },
  {
   "cell_type": "markdown",
   "metadata": {},
   "source": [
    "## Decision Tree with Pruning"
   ]
  },
  {
   "cell_type": "code",
   "execution_count": 10,
   "metadata": {},
   "outputs": [],
   "source": [
    "from sklearn.model_selection import cross_val_score, GridSearchCV\n",
    "from sklearn.tree import DecisionTreeClassifier\n",
    "from sklearn.metrics import auc, roc_curve, confusion_matrix\n",
    "from sklearn import metrics\n",
    "\n",
    "# def prune(decisiontree, min_samples_leaf = 1):\n",
    "#     if decisiontree.min_samples_leaf >= min_samples_leaf:\n",
    "#         raise Exception('Tree already more pruned')\n",
    "#     else:\n",
    "#         decisiontree.min_samples_leaf = min_samples_leaf\n",
    "#         tree = decisiontree.tree_\n",
    "#         for i in range(tree.node_count):\n",
    "#             n_samples = tree.n_node_samples[i]\n",
    "#             if n_samples <= min_samples_leaf:\n",
    "#                 tree.children_left[i]=-1\n",
    "#                 tree.children_right[i]=-1"
   ]
  },
  {
   "cell_type": "code",
   "execution_count": 11,
   "metadata": {},
   "outputs": [
    {
     "name": "stdout",
     "output_type": "stream",
     "text": [
      "Fitting 10 folds for each of 10 candidates, totalling 100 fits\n"
     ]
    },
    {
     "name": "stderr",
     "output_type": "stream",
     "text": [
      "[Parallel(n_jobs=-1)]: Using backend LokyBackend with 4 concurrent workers.\n",
      "[Parallel(n_jobs=-1)]: Done  33 tasks      | elapsed:   47.8s\n",
      "[Parallel(n_jobs=-1)]: Done 100 out of 100 | elapsed:  2.0min finished\n"
     ]
    },
    {
     "name": "stdout",
     "output_type": "stream",
     "text": [
      "Best params for cc: \n",
      "{'min_samples_leaf': 5, 'max_features': 'sqrt'}\n",
      "\n",
      "ROC AUC: 0.8454299733137879\n",
      "Recall: 0.6910569105691057\n",
      "Precision: 0.8585858585858586\n",
      "Accuracy: 0.9992696834358585\n",
      "Fitting 10 folds for each of 10 candidates, totalling 100 fits\n"
     ]
    },
    {
     "name": "stderr",
     "output_type": "stream",
     "text": [
      "C:\\Users\\kinguyen\\AppData\\Local\\Programs\\Python\\Python36\\lib\\site-packages\\sklearn\\model_selection\\_split.py:626: Warning: The least populated class in y has only 3 members, which is too few. The minimum number of members in any class cannot be less than n_splits=10.\n",
      "  % (min_groups, self.n_splits)), Warning)\n",
      "[Parallel(n_jobs=-1)]: Using backend LokyBackend with 4 concurrent workers.\n"
     ]
    },
    {
     "name": "stdout",
     "output_type": "stream",
     "text": [
      "Best params for zoo: \n",
      "{'min_samples_leaf': 5, 'max_features': 'log2'}\n",
      "Accuracy: 0.8387096774193549\n"
     ]
    },
    {
     "name": "stderr",
     "output_type": "stream",
     "text": [
      "[Parallel(n_jobs=-1)]: Done 100 out of 100 | elapsed:    0.4s finished\n",
      "C:\\Users\\kinguyen\\AppData\\Local\\Programs\\Python\\Python36\\lib\\site-packages\\sklearn\\model_selection\\_search.py:841: DeprecationWarning: The default of the `iid` parameter will change from True to False in version 0.22 and will be removed in 0.24. This will change numeric results when test-set sizes are unequal.\n",
      "  DeprecationWarning)\n"
     ]
    }
   ],
   "source": [
    "# CC Not taking into account unbalanced dataset\n",
    "\n",
    "parameters = {'min_samples_leaf':[5, 7, 15, 50, 75], 'max_features': ['sqrt', 'log2']}\n",
    "dtc = DecisionTreeClassifier()\n",
    "clf = RandomizedSearchCV(dtc, parameters, verbose=2, cv=10, n_jobs=-1)\n",
    "clf.fit(x_cc_train, y_cc_train)\n",
    "y_cc_preds = clf.predict(x_cc_test)\n",
    "\n",
    "roc_auc = metrics.roc_auc_score(y_cc_test, y_cc_preds)\n",
    "precision = metrics.precision_score(y_cc_test, y_cc_preds)\n",
    "recall = metrics.recall_score(y_cc_test, y_cc_preds)\n",
    "accuracy = metrics.accuracy_score(y_cc_test, y_cc_preds)\n",
    "\n",
    "print(\"Best params for cc: \\n{}\\n\".format(clf.best_params_))\n",
    "print(\"ROC AUC: {}\\nRecall: {}\\nPrecision: {}\\nAccuracy: {}\".format(roc_auc, recall, precision, accuracy))\n",
    "\n",
    "# zoo Not taking into account unbalanced dataset             \n",
    "parameters = {'min_samples_leaf':[5, 7, 15, 50, 75], 'max_features': ['sqrt', 'log2']}\n",
    "clf = RandomizedSearchCV(dtc, parameters, verbose=2, cv=10, n_jobs=-1)\n",
    "clf.fit(x_zoo_train, y_zoo_train)\n",
    "y_zoo_preds = clf.predict(x_zoo_test)\n",
    "\n",
    "accuracy_score = metrics.accuracy_score(y_zoo_test, y_zoo_preds)\n",
    "\n",
    "print(\"Best params for zoo: \\n{}\".format(clf.best_params_))\n",
    "print(\"Accuracy: {}\".format(accuracy_score))"
   ]
  },
  {
   "cell_type": "code",
   "execution_count": 15,
   "metadata": {
    "scrolled": false
   },
   "outputs": [
    {
     "name": "stdout",
     "output_type": "stream",
     "text": [
      "Fitting 10 folds for each of 10 candidates, totalling 100 fits\n"
     ]
    },
    {
     "name": "stderr",
     "output_type": "stream",
     "text": [
      "[Parallel(n_jobs=-1)]: Using backend LokyBackend with 4 concurrent workers.\n",
      "[Parallel(n_jobs=-1)]: Done  33 tasks      | elapsed:   27.6s\n",
      "[Parallel(n_jobs=-1)]: Done 100 out of 100 | elapsed:  1.3min finished\n"
     ]
    },
    {
     "name": "stdout",
     "output_type": "stream",
     "text": [
      "Best params for cc: \n",
      "{'min_samples_leaf': 5, 'max_features': 'sqrt', 'class_weight': 'balanced'}\n",
      "\n",
      "ROC AUC: 0.8734420889981913\n",
      "Recall: 0.7479674796747967\n",
      "Precision: 0.5443786982248521\n",
      "Accuracy: 0.9984831886744754\n"
     ]
    },
    {
     "name": "stderr",
     "output_type": "stream",
     "text": [
      "C:\\Users\\kinguyen\\AppData\\Local\\Programs\\Python\\Python36\\lib\\site-packages\\sklearn\\model_selection\\_split.py:1943: FutureWarning: You should specify a value for 'cv' instead of relying on the default value. The default value will change from 3 to 5 in version 0.22.\n",
      "  warnings.warn(CV_WARNING, FutureWarning)\n"
     ]
    },
    {
     "data": {
      "image/png": "[encoded data removed]",
      "text/plain": [
       "<Figure size 432x288 with 1 Axes>"
      ]
     },
     "metadata": {},
     "output_type": "display_data"
    }
   ],
   "source": [
    "# CC\n",
    "parameters = {'min_samples_leaf':[5, 7, 15, 50, 75], 'max_features': ['sqrt', 'log2'], 'class_weight': ['balanced']}\n",
    "dtc = DecisionTreeClassifier()\n",
    "clf = RandomizedSearchCV(dtc, parameters, verbose=2, cv=10, n_jobs=-1, random_state=100)\n",
    "clf.fit(x_cc_train, y_cc_train)\n",
    "y_cc_preds = clf.predict(x_cc_test)\n",
    "\n",
    "roc_auc = metrics.roc_auc_score(y_cc_test, y_cc_preds)\n",
    "precision = metrics.precision_score(y_cc_test, y_cc_preds)\n",
    "recall = metrics.recall_score(y_cc_test, y_cc_preds)\n",
    "accuracy = metrics.accuracy_score(y_cc_test, y_cc_preds)\n",
    "\n",
    "print(\"Best params for cc: \\n{}\\n\".format(clf.best_params_))\n",
    "print(\"ROC AUC: {}\\nRecall: {}\\nPrecision: {}\\nAccuracy: {}\".format(roc_auc, recall, precision, accuracy))\n",
    "\n",
    "title = \"DTC on CC\"\n",
    "plot_learning_curve(clf, title, x_cc, y_cc, ylim=(0.7, 1.01), n_jobs=-1)\n",
    "plt.show()\n"
   ]
  },
  {
   "cell_type": "code",
   "execution_count": 20,
   "metadata": {
    "scrolled": false
   },
   "outputs": [
    {
     "name": "stdout",
     "output_type": "stream",
     "text": [
      "Fitting 10 folds for each of 10 candidates, totalling 100 fits\n"
     ]
    },
    {
     "name": "stderr",
     "output_type": "stream",
     "text": [
      "C:\\Users\\kinguyen\\AppData\\Local\\Programs\\Python\\Python36\\lib\\site-packages\\sklearn\\model_selection\\_split.py:626: Warning: The least populated class in y has only 3 members, which is too few. The minimum number of members in any class cannot be less than n_splits=10.\n",
      "  % (min_groups, self.n_splits)), Warning)\n",
      "[Parallel(n_jobs=-1)]: Using backend LokyBackend with 4 concurrent workers.\n",
      "[Parallel(n_jobs=-1)]: Done  34 tasks      | elapsed:    7.0s\n",
      "[Parallel(n_jobs=-1)]: Done  42 out of 100 | elapsed:    7.0s remaining:    9.8s\n"
     ]
    },
    {
     "name": "stdout",
     "output_type": "stream",
     "text": [
      "Best params for zoo: \n",
      "{'min_samples_leaf': 5, 'max_features': 'sqrt', 'class_weight': 'balanced'}\n",
      "Accuracy: 0.8064516129032258\n"
     ]
    },
    {
     "name": "stderr",
     "output_type": "stream",
     "text": [
      "[Parallel(n_jobs=-1)]: Done 100 out of 100 | elapsed:    7.5s finished\n",
      "C:\\Users\\kinguyen\\AppData\\Local\\Programs\\Python\\Python36\\lib\\site-packages\\sklearn\\model_selection\\_search.py:841: DeprecationWarning: The default of the `iid` parameter will change from True to False in version 0.22 and will be removed in 0.24. This will change numeric results when test-set sizes are unequal.\n",
      "  DeprecationWarning)\n"
     ]
    }
   ],
   "source": [
    "# zoo             \n",
    "parameters = {'min_samples_leaf':[5, 7, 15, 50, 75], 'max_features': ['sqrt', 'log2'], 'class_weight': ['balanced']}\n",
    "clf = RandomizedSearchCV(dtc, parameters, verbose=2, cv=10, n_jobs=-1, random_state=100)\n",
    "clf.fit(x_zoo_train, y_zoo_train)\n",
    "y_zoo_preds = clf.predict(x_zoo_test)\n",
    "\n",
    "accuracy_score = metrics.accuracy_score(y_zoo_test, y_zoo_preds)\n",
    "\n",
    "print(\"Best params for zoo: \\n{}\".format(clf.best_params_))\n",
    "print(\"Accuracy: {}\".format(accuracy_score))\n",
    "# cv = ShuffleSplit(n_splits=5, test_size=0.2, random_state=0)\n",
    "# title = \"DTC on Zoo\"\n",
    "# plot_learning_curve(clf, title, x_zoo, y_zoo, cv=cv, ylim=(0.7, 1.01), n_jobs=-1)\n",
    "# plt.show()"
   ]
  },
  {
   "cell_type": "code",
   "execution_count": 11,
   "metadata": {},
   "outputs": [],
   "source": [
    "from sklearn.utils.multiclass import unique_labels\n",
    "\n",
    "zoo_classes = unique_labels(y_zoo_test, y_zoo_preds)"
   ]
  },
  {
   "cell_type": "code",
   "execution_count": 22,
   "metadata": {},
   "outputs": [],
   "source": [
    "# Code adapted from Sklearn\n",
    "\n",
    "import itertools\n",
    "np.set_printoptions(precision=2)\n",
    "\n",
    "import matplotlib.pyplot as plt\n",
    "def plot_confusion_matrix(cm, classes,\n",
    "                          normalize=False,\n",
    "                          title='Confusion matrix',\n",
    "                          cmap=plt.cm.Blues):\n",
    "    \"\"\"\n",
    "    This function prints and plots the confusion matrix.\n",
    "    Normalization can be applied by setting `normalize=True`.\n",
    "    \"\"\"\n",
    "    if normalize:\n",
    "        cm = cm.astype('float') / cm.sum(axis=1)[:, np.newaxis]\n",
    "        print(\"Normalized confusion matrix\")\n",
    "    else:\n",
    "        print('Confusion matrix, without normalization')\n",
    "\n",
    "    print(cm)\n",
    "\n",
    "    plt.imshow(cm, interpolation='nearest', cmap=cmap)\n",
    "    plt.title(title)\n",
    "    plt.colorbar()\n",
    "    tick_marks = np.arange(len(classes))\n",
    "    plt.xticks(tick_marks, classes, rotation=45)\n",
    "    plt.yticks(tick_marks, classes)\n",
    "\n",
    "    fmt = '.2f' if normalize else 'd'\n",
    "    thresh = cm.max() / 2.\n",
    "    for i, j in itertools.product(range(cm.shape[0]), range(cm.shape[1])):\n",
    "        plt.text(j, i, format(cm[i, j], fmt),\n",
    "                 horizontalalignment=\"center\",\n",
    "                 color=\"white\" if cm[i, j] > thresh else \"black\")\n",
    "\n",
    "    plt.tight_layout()\n",
    "    plt.ylabel('True label')\n",
    "    plt.xlabel('Predicted label')"
   ]
  },
  {
   "cell_type": "code",
   "execution_count": 12,
   "metadata": {},
   "outputs": [
    {
     "name": "stdout",
     "output_type": "stream",
     "text": [
      "Normalized confusion matrix\n",
      "[[1.   0.  ]\n",
      " [0.24 0.76]]\n"
     ]
    },
    {
     "data": {
      "image/png": "[encoded data removed]",
      "text/plain": [
       "<Figure size 432x288 with 2 Axes>"
      ]
     },
     "metadata": {},
     "output_type": "display_data"
    }
   ],
   "source": [
    "# Plot normalized confusion matrix for cc\n",
    "cnf_matrix_cc = confusion_matrix(y_cc_test, y_cc_preds)\n",
    "plt.figure()\n",
    "plot_confusion_matrix(cnf_matrix_cc, classes=[0,1], normalize=True,\n",
    "                      title='CC Normalized confusion matrix')\n",
    "\n",
    "plt.show()"
   ]
  },
  {
   "cell_type": "code",
   "execution_count": 13,
   "metadata": {},
   "outputs": [
    {
     "name": "stdout",
     "output_type": "stream",
     "text": [
      "Normalized confusion matrix\n",
      "[[1.   0.   0.   0.   0.   0.   0.  ]\n",
      " [0.   1.   0.   0.   0.   0.   0.  ]\n",
      " [0.   0.   0.5  0.5  0.   0.   0.  ]\n",
      " [0.   0.   0.   1.   0.   0.   0.  ]\n",
      " [0.   0.   1.   0.   0.   0.   0.  ]\n",
      " [0.   0.   0.   0.   0.   1.   0.  ]\n",
      " [0.   0.   0.   0.   0.   0.67 0.33]]\n"
     ]
    },
    {
     "data": {
      "image/png": "[encoded data removed]",
      "text/plain": [
       "<Figure size 432x288 with 2 Axes>"
      ]
     },
     "metadata": {},
     "output_type": "display_data"
    }
   ],
   "source": [
    "# Plot normalized confusion matrix for zoo\n",
    "cnf_matrix_zoo = confusion_matrix(y_zoo_test, y_zoo_preds)\n",
    "plt.figure()\n",
    "plot_confusion_matrix(cnf_matrix_zoo, classes=zoo_classes, normalize=True,\n",
    "                      title='Zoo Normalized confusion matrix')\n",
    "\n",
    "plt.show()"
   ]
  },
  {
   "cell_type": "code",
   "execution_count": 14,
   "metadata": {},
   "outputs": [
    {
     "name": "stdout",
     "output_type": "stream",
     "text": [
      "[[70996    83]\n",
      " [   30    93]]\n"
     ]
    }
   ],
   "source": [
    "# for CC\n",
    "print(cnf_matrix_cc)\n",
    "tn, fp = cnf_matrix_cc[0]\n",
    "fn, tp = cnf_matrix_cc[1]\n",
    "recall = tp/ float((tp + fn))\n",
    "precision = tp / float((tp + fp))\n",
    "accuracy = (tp + tn) / float(tp+tn+fp+fn)"
   ]
  },
  {
   "cell_type": "code",
   "execution_count": 15,
   "metadata": {},
   "outputs": [
    {
     "name": "stdout",
     "output_type": "stream",
     "text": [
      "Recall: 0.7560975609756098\n",
      "Precision: 0.5284090909090909\n",
      "Accuracy: 0.9984129659279234\n"
     ]
    }
   ],
   "source": [
    "print(\"Recall: {}\\nPrecision: {}\\nAccuracy: {}\".format(recall, precision, accuracy))"
   ]
  },
  {
   "cell_type": "markdown",
   "metadata": {},
   "source": [
    "## KNN"
   ]
  },
  {
   "cell_type": "code",
   "execution_count": 23,
   "metadata": {
    "scrolled": true
   },
   "outputs": [
    {
     "name": "stderr",
     "output_type": "stream",
     "text": [
      "C:\\Users\\kinguyen\\AppData\\Local\\Programs\\Python\\Python36\\lib\\site-packages\\ipykernel_launcher.py:1: DataConversionWarning: A column-vector y was passed when a 1d array was expected. Please change the shape of y to (n_samples, ), for example using ravel().\n",
      "  \"\"\"Entry point for launching an IPython kernel.\n",
      "C:\\Users\\kinguyen\\AppData\\Local\\Programs\\Python\\Python36\\lib\\site-packages\\ipykernel_launcher.py:1: DataConversionWarning: A column-vector y was passed when a 1d array was expected. Please change the shape of y to (n_samples, ), for example using ravel().\n",
      "  \"\"\"Entry point for launching an IPython kernel.\n",
      "C:\\Users\\kinguyen\\AppData\\Local\\Programs\\Python\\Python36\\lib\\site-packages\\ipykernel_launcher.py:1: DataConversionWarning: A column-vector y was passed when a 1d array was expected. Please change the shape of y to (n_samples, ), for example using ravel().\n",
      "  \"\"\"Entry point for launching an IPython kernel.\n",
      "C:\\Users\\kinguyen\\AppData\\Local\\Programs\\Python\\Python36\\lib\\site-packages\\ipykernel_launcher.py:1: DataConversionWarning: A column-vector y was passed when a 1d array was expected. Please change the shape of y to (n_samples, ), for example using ravel().\n",
      "  \"\"\"Entry point for launching an IPython kernel.\n",
      "C:\\Users\\kinguyen\\AppData\\Local\\Programs\\Python\\Python36\\lib\\site-packages\\ipykernel_launcher.py:1: DataConversionWarning: A column-vector y was passed when a 1d array was expected. Please change the shape of y to (n_samples, ), for example using ravel().\n",
      "  \"\"\"Entry point for launching an IPython kernel.\n",
      "C:\\Users\\kinguyen\\AppData\\Local\\Programs\\Python\\Python36\\lib\\site-packages\\ipykernel_launcher.py:1: DataConversionWarning: A column-vector y was passed when a 1d array was expected. Please change the shape of y to (n_samples, ), for example using ravel().\n",
      "  \"\"\"Entry point for launching an IPython kernel.\n",
      "C:\\Users\\kinguyen\\AppData\\Local\\Programs\\Python\\Python36\\lib\\site-packages\\ipykernel_launcher.py:1: DataConversionWarning: A column-vector y was passed when a 1d array was expected. Please change the shape of y to (n_samples, ), for example using ravel().\n",
      "  \"\"\"Entry point for launching an IPython kernel.\n",
      "C:\\Users\\kinguyen\\AppData\\Local\\Programs\\Python\\Python36\\lib\\site-packages\\ipykernel_launcher.py:1: DataConversionWarning: A column-vector y was passed when a 1d array was expected. Please change the shape of y to (n_samples, ), for example using ravel().\n",
      "  \"\"\"Entry point for launching an IPython kernel.\n"
     ]
    },
    {
     "name": "stdout",
     "output_type": "stream",
     "text": [
      "1.78 s ± 182 ms per loop (mean ± std. dev. of 7 runs, 1 loop each)\n",
      "2.02 s ± 24.4 ms per loop (mean ± std. dev. of 7 runs, 1 loop each)\n",
      "ROC AUC: 0.8734420889981913\n",
      "Recall: 0.7479674796747967\n",
      "Precision: 0.5443786982248521\n",
      "Accuracy: 0.9984831886744754\n"
     ]
    },
    {
     "data": {
      "image/png": "[encoded data removed]",
      "text/plain": [
       "<Figure size 432x288 with 1 Axes>"
      ]
     },
     "metadata": {},
     "output_type": "display_data"
    },
    {
     "name": "stdout",
     "output_type": "stream",
     "text": [
      "Normalized confusion matrix\n",
      "[[1.   0.  ]\n",
      " [0.25 0.75]]\n"
     ]
    },
    {
     "data": {
      "image/png": "[encoded data removed]",
      "text/plain": [
       "<Figure size 432x288 with 2 Axes>"
      ]
     },
     "metadata": {},
     "output_type": "display_data"
    }
   ],
   "source": [
    "from sklearn.neighbors import KNeighborsClassifier\n",
    "\n",
    "# CC\n",
    "knn_cc = KNeighborsClassifier()\n",
    "%timeit knn_cc.fit(x_cc_train, y_cc_train)\n",
    "%timeit y_cc_preds = knn_cc.predict(x_cc_test)\n",
    "\n",
    "roc_auc = metrics.roc_auc_score(y_cc_test, y_cc_preds)\n",
    "precision = metrics.precision_score(y_cc_test, y_cc_preds)\n",
    "recall = metrics.recall_score(y_cc_test, y_cc_preds)\n",
    "accuracy = metrics.accuracy_score(y_cc_test, y_cc_preds)\n",
    "\n",
    "print(\"ROC AUC: {}\\nRecall: {}\\nPrecision: {}\\nAccuracy: {}\".format(roc_auc, recall, precision, accuracy))\n",
    "fpr, tpr, threshold = roc_curve(y_cc_test, y_cc_preds)\n",
    "roc_auc = auc(fpr, tpr)\n",
    "\n",
    "\n",
    "plt.title('Receiver Operating Characteristic')\n",
    "plt.plot(fpr, tpr, 'b', label = 'AUC = %0.2f' % roc_auc)\n",
    "plt.legend(loc = 'lower right')\n",
    "plt.plot([0, 1], [0, 1],'r--')\n",
    "plt.xlim([0, 1])\n",
    "plt.ylim([0, 1])\n",
    "plt.ylabel('True Positive Rate')\n",
    "plt.xlabel('False Positive Rate')\n",
    "plt.show()\n",
    "\n",
    "cnf_matrix_cc = confusion_matrix(y_cc_test, y_cc_preds)\n",
    "plt.figure()\n",
    "plot_confusion_matrix(cnf_matrix_cc, classes=[0, 1], normalize=True,\n",
    "                      title='Normalized confusion matrix')\n",
    "\n",
    "plt.show()"
   ]
  },
  {
   "cell_type": "code",
   "execution_count": 24,
   "metadata": {},
   "outputs": [
    {
     "name": "stderr",
     "output_type": "stream",
     "text": [
      "C:\\Users\\kinguyen\\AppData\\Local\\Programs\\Python\\Python36\\lib\\site-packages\\sklearn\\model_selection\\_split.py:1943: FutureWarning: You should specify a value for 'cv' instead of relying on the default value. The default value will change from 3 to 5 in version 0.22.\n",
      "  warnings.warn(CV_WARNING, FutureWarning)\n"
     ]
    },
    {
     "data": {
      "image/png": "[encoded data removed]",
      "text/plain": [
       "<Figure size 432x288 with 1 Axes>"
      ]
     },
     "metadata": {},
     "output_type": "display_data"
    }
   ],
   "source": [
    "title = \"KNN on CC\"\n",
    "plot_learning_curve(knn_cc, title, x_cc, y_cc, ylim=(0.7, 1.01), n_jobs=-1)\n",
    "plt.show()"
   ]
  },
  {
   "cell_type": "code",
   "execution_count": null,
   "metadata": {},
   "outputs": [],
   "source": [
    "# zoo\n",
    "knn_zoo = KNeighborsClassifier()\n",
    "knn_zoo.fit(x_zoo_train, y_zoo_train)\n",
    "y_zoo_preds = knn_zoo.predict(x_zoo_test)\n",
    "\n",
    "cnf_matrix_zoo = confusion_matrix(y_zoo_test, y_zoo_preds)\n",
    "plt.figure()\n",
    "plot_confusion_matrix(cnf_matrix_zoo, classes=zoo_classes, normalize=True,\n",
    "                      title='Normalized confusion matrix')\n",
    "\n",
    "plt.show()\n",
    "\n",
    "accuracy = metrics.accuracy_score(y_zoo_test, y_zoo_preds)\n",
    "\n",
    "print(\"Accuracy: {}\".format(accuracy))"
   ]
  },
  {
   "cell_type": "code",
   "execution_count": null,
   "metadata": {},
   "outputs": [],
   "source": []
  },
  {
   "cell_type": "markdown",
   "metadata": {},
   "source": [
    "## Neural Networks"
   ]
  },
  {
   "cell_type": "code",
   "execution_count": 25,
   "metadata": {},
   "outputs": [
    {
     "name": "stderr",
     "output_type": "stream",
     "text": [
      "C:\\Users\\kinguyen\\AppData\\Local\\Programs\\Python\\Python36\\lib\\site-packages\\sklearn\\neural_network\\multilayer_perceptron.py:916: DataConversionWarning: A column-vector y was passed when a 1d array was expected. Please change the shape of y to (n_samples, ), for example using ravel().\n",
      "  y = column_or_1d(y, warn=True)\n",
      "C:\\Users\\kinguyen\\AppData\\Local\\Programs\\Python\\Python36\\lib\\site-packages\\sklearn\\metrics\\classification.py:1143: UndefinedMetricWarning: Precision is ill-defined and being set to 0.0 due to no predicted samples.\n",
      "  'precision', 'predicted', average, warn_for)\n"
     ]
    },
    {
     "name": "stdout",
     "output_type": "stream",
     "text": [
      "ROC AUC: 0.5\n",
      "Recall: 0.0\n",
      "Precision: 0.0\n",
      "Accuracy: 0.9982725204348193\n"
     ]
    },
    {
     "data": {
      "image/png": "[encoded data removed]",
      "text/plain": [
       "<Figure size 432x288 with 1 Axes>"
      ]
     },
     "metadata": {},
     "output_type": "display_data"
    },
    {
     "name": "stdout",
     "output_type": "stream",
     "text": [
      "Normalized confusion matrix\n",
      "[[1. 0.]\n",
      " [1. 0.]]\n"
     ]
    },
    {
     "data": {
      "image/png": "[encoded data removed]",
      "text/plain": [
       "<Figure size 432x288 with 2 Axes>"
      ]
     },
     "metadata": {},
     "output_type": "display_data"
    }
   ],
   "source": [
    "from sklearn.neural_network import MLPClassifier\n",
    "\n",
    "# CC\n",
    "nn_cc = MLPClassifier(random_state=100)\n",
    "nn_cc.fit(x_cc_train, y_cc_train)\n",
    "y_cc_preds = nn_cc.predict(x_cc_test)\n",
    "\n",
    "roc_auc = metrics.roc_auc_score(y_cc_test, y_cc_preds)\n",
    "precision = metrics.precision_score(y_cc_test, y_cc_preds)\n",
    "recall = metrics.recall_score(y_cc_test, y_cc_preds)\n",
    "accuracy = metrics.accuracy_score(y_cc_test, y_cc_preds)\n",
    "\n",
    "print(\"ROC AUC: {}\\nRecall: {}\\nPrecision: {}\\nAccuracy: {}\".format(roc_auc, recall, precision, accuracy))\n",
    "fpr, tpr, threshold = roc_curve(y_cc_test, y_cc_preds)\n",
    "roc_auc = auc(fpr, tpr)\n",
    "\n",
    "import matplotlib.pyplot as plt\n",
    "plt.title('Receiver Operating Characteristic')\n",
    "plt.plot(fpr, tpr, 'b', label = 'AUC = %0.2f' % roc_auc)\n",
    "plt.legend(loc = 'lower right')\n",
    "plt.plot([0, 1], [0, 1],'r--')\n",
    "plt.xlim([0, 1])\n",
    "plt.ylim([0, 1])\n",
    "plt.ylabel('True Positive Rate')\n",
    "plt.xlabel('False Positive Rate')\n",
    "plt.show()\n",
    "\n",
    "cnf_matrix_cc = confusion_matrix(y_cc_test, y_cc_preds)\n",
    "plt.figure()\n",
    "plot_confusion_matrix(cnf_matrix_cc, classes=[0, 1], normalize=True,\n",
    "                      title='Normalized confusion matrix')\n",
    "\n",
    "plt.show()"
   ]
  },
  {
   "cell_type": "code",
   "execution_count": 26,
   "metadata": {},
   "outputs": [
    {
     "name": "stderr",
     "output_type": "stream",
     "text": [
      "C:\\Users\\kinguyen\\AppData\\Local\\Programs\\Python\\Python36\\lib\\site-packages\\sklearn\\model_selection\\_split.py:1943: FutureWarning: You should specify a value for 'cv' instead of relying on the default value. The default value will change from 3 to 5 in version 0.22.\n",
      "  warnings.warn(CV_WARNING, FutureWarning)\n"
     ]
    },
    {
     "data": {
      "image/png": "[encoded data removed]",
      "text/plain": [
       "<Figure size 432x288 with 1 Axes>"
      ]
     },
     "metadata": {},
     "output_type": "display_data"
    }
   ],
   "source": [
    "title = \"NN on CC\"\n",
    "plot_learning_curve(nn_cc, title, x_cc, y_cc, ylim=(0.7, 1.01), n_jobs=-1)\n",
    "plt.show()"
   ]
  },
  {
   "cell_type": "code",
   "execution_count": 19,
   "metadata": {},
   "outputs": [
    {
     "name": "stderr",
     "output_type": "stream",
     "text": [
      "C:\\Users\\kinguyen\\AppData\\Local\\Programs\\Python\\Python36\\lib\\site-packages\\sklearn\\neural_network\\multilayer_perceptron.py:916: DataConversionWarning: A column-vector y was passed when a 1d array was expected. Please change the shape of y to (n_samples, ), for example using ravel().\n",
      "  y = column_or_1d(y, warn=True)\n",
      "C:\\Users\\kinguyen\\AppData\\Local\\Programs\\Python\\Python36\\lib\\site-packages\\sklearn\\neural_network\\multilayer_perceptron.py:562: ConvergenceWarning: Stochastic Optimizer: Maximum iterations (200) reached and the optimization hasn't converged yet.\n",
      "  % self.max_iter, ConvergenceWarning)\n"
     ]
    },
    {
     "name": "stdout",
     "output_type": "stream",
     "text": [
      "Normalized confusion matrix\n",
      "[[1.   0.   0.   0.   0.   0.   0.  ]\n",
      " [0.   1.   0.   0.   0.   0.   0.  ]\n",
      " [0.   0.   0.   0.5  0.5  0.   0.  ]\n",
      " [0.   0.   0.   1.   0.   0.   0.  ]\n",
      " [0.   0.   0.   0.   1.   0.   0.  ]\n",
      " [0.   0.   0.   0.   0.   1.   0.  ]\n",
      " [0.   0.   0.   0.   0.   0.33 0.67]]\n"
     ]
    },
    {
     "data": {
      "image/png": "[encoded data removed]",
      "text/plain": [
       "<Figure size 432x288 with 2 Axes>"
      ]
     },
     "metadata": {},
     "output_type": "display_data"
    },
    {
     "name": "stdout",
     "output_type": "stream",
     "text": [
      "Accuracy: 0.9032258064516129\n"
     ]
    }
   ],
   "source": [
    "# zoo\n",
    "nn_zoo = MLPClassifier(random_state=100)\n",
    "nn_zoo.fit(x_zoo_train, y_zoo_train)\n",
    "y_zoo_preds = nn_zoo.predict(x_zoo_test)\n",
    "\n",
    "cnf_matrix_zoo = confusion_matrix(y_zoo_test, y_zoo_preds)\n",
    "plt.figure()\n",
    "plot_confusion_matrix(cnf_matrix_zoo, classes=zoo_classes, normalize=True,\n",
    "                      title='Normalized confusion matrix')\n",
    "\n",
    "plt.show()\n",
    "\n",
    "accuracy = metrics.accuracy_score(y_zoo_test, y_zoo_preds)\n",
    "\n",
    "print(\"Accuracy: {}\".format(accuracy))"
   ]
  },
  {
   "cell_type": "code",
   "execution_count": null,
   "metadata": {},
   "outputs": [],
   "source": [
    "# title = \"NN on Zoo\"\n",
    "# plot_learning_curve(nn_zoo, title, x_cc, y_cc, ylim=(0.7, 1.01), n_jobs=-1)\n",
    "# plt.show()"
   ]
  },
  {
   "cell_type": "markdown",
   "metadata": {},
   "source": [
    "## SVM"
   ]
  },
  {
   "cell_type": "code",
   "execution_count": null,
   "metadata": {},
   "outputs": [
    {
     "name": "stderr",
     "output_type": "stream",
     "text": [
      "C:\\Users\\kinguyen\\AppData\\Local\\Programs\\Python\\Python36\\lib\\site-packages\\sklearn\\utils\\validation.py:752: DataConversionWarning: A column-vector y was passed when a 1d array was expected. Please change the shape of y to (n_samples, ), for example using ravel().\n",
      "  y = column_or_1d(y, warn=True)\n",
      "C:\\Users\\kinguyen\\AppData\\Local\\Programs\\Python\\Python36\\lib\\site-packages\\sklearn\\svm\\base.py:196: FutureWarning: The default value of gamma will change from 'auto' to 'scale' in version 0.22 to account better for unscaled features. Set gamma explicitly to 'auto' or 'scale' to avoid this warning.\n",
      "  \"avoid this warning.\", FutureWarning)\n"
     ]
    }
   ],
   "source": [
    "from sklearn.svm import SVC\n",
    "\n",
    "# CC\n",
    "svm_cc = SVC(kernel='rbf', random_state=100)\n",
    "svm_cc.fit(x_cc_train, y_cc_train)\n",
    "y_cc_preds = svm_cc.predict(x_cc_test)\n",
    "\n",
    "roc_auc = metrics.roc_auc_score(y_cc_test, y_cc_preds)\n",
    "precision = metrics.precision_score(y_cc_test, y_cc_preds)\n",
    "recall = metrics.recall_score(y_cc_test, y_cc_preds)\n",
    "accuracy = metrics.accuracy_score(y_cc_test, y_cc_preds)\n",
    "\n",
    "print(\"ROC AUC: {}\\nRecall: {}\\nPrecision: {}\\nAccuracy: {}\".format(roc_auc, recall, precision, accuracy))\n",
    "fpr, tpr, threshold = roc_curve(y_cc_test, y_cc_preds)\n",
    "roc_auc = auc(fpr, tpr)\n",
    "\n",
    "import matplotlib.pyplot as plt\n",
    "plt.title('Receiver Operating Characteristic')\n",
    "plt.plot(fpr, tpr, 'b', label = 'AUC = %0.2f' % roc_auc)\n",
    "plt.legend(loc = 'lower right')\n",
    "plt.plot([0, 1], [0, 1],'r--')\n",
    "plt.xlim([0, 1])\n",
    "plt.ylim([0, 1])\n",
    "plt.ylabel('True Positive Rate')\n",
    "plt.xlabel('False Positive Rate')\n",
    "plt.show()\n",
    "\n",
    "cnf_matrix_cc = confusion_matrix(y_cc_test, y_cc_preds)\n",
    "plt.figure()\n",
    "plot_confusion_matrix(cnf_matrix_cc, classes=[0, 1], normalize=True,\n",
    "                      title='Normalized confusion matrix')\n",
    "\n",
    "plt.show()"
   ]
  },
  {
   "cell_type": "code",
   "execution_count": null,
   "metadata": {},
   "outputs": [
    {
     "name": "stderr",
     "output_type": "stream",
     "text": [
      "C:\\Users\\kinguyen\\AppData\\Local\\Programs\\Python\\Python36\\lib\\site-packages\\sklearn\\utils\\validation.py:752: DataConversionWarning: A column-vector y was passed when a 1d array was expected. Please change the shape of y to (n_samples, ), for example using ravel().\n",
      "  y = column_or_1d(y, warn=True)\n",
      "C:\\Users\\kinguyen\\AppData\\Local\\Programs\\Python\\Python36\\lib\\site-packages\\sklearn\\svm\\base.py:196: FutureWarning: The default value of gamma will change from 'auto' to 'scale' in version 0.22 to account better for unscaled features. Set gamma explicitly to 'auto' or 'scale' to avoid this warning.\n",
      "  \"avoid this warning.\", FutureWarning)\n"
     ]
    },
    {
     "name": "stdout",
     "output_type": "stream",
     "text": [
      "ROC AUC: 0.524390243902439\n",
      "Recall: 0.04878048780487805\n",
      "Precision: 1.0\n",
      "Accuracy: 0.9983567877306817\n"
     ]
    },
    {
     "data": {
      "image/png": "[encoded data removed]",
      "text/plain": [
       "<Figure size 432x288 with 1 Axes>"
      ]
     },
     "metadata": {},
     "output_type": "display_data"
    },
    {
     "name": "stdout",
     "output_type": "stream",
     "text": [
      "Normalized confusion matrix\n",
      "[[1.   0.  ]\n",
      " [0.95 0.05]]\n"
     ]
    },
    {
     "data": {
      "image/png": "[encoded data removed]",
      "text/plain": [
       "<Figure size 432x288 with 2 Axes>"
      ]
     },
     "metadata": {},
     "output_type": "display_data"
    },
    {
     "name": "stderr",
     "output_type": "stream",
     "text": [
      "C:\\Users\\kinguyen\\AppData\\Local\\Programs\\Python\\Python36\\lib\\site-packages\\sklearn\\utils\\validation.py:752: DataConversionWarning: A column-vector y was passed when a 1d array was expected. Please change the shape of y to (n_samples, ), for example using ravel().\n",
      "  y = column_or_1d(y, warn=True)\n"
     ]
    }
   ],
   "source": [
    "svm_cc = SVC(kernel='linear', random_state=100)\n",
    "svm_cc.fit(x_cc_train, y_cc_train)\n",
    "y_cc_preds = svm_cc.predict(x_cc_test)\n",
    "\n",
    "roc_auc = metrics.roc_auc_score(y_cc_test, y_cc_preds)\n",
    "precision = metrics.precision_score(y_cc_test, y_cc_preds)\n",
    "recall = metrics.recall_score(y_cc_test, y_cc_preds)\n",
    "accuracy = metrics.accuracy_score(y_cc_test, y_cc_preds)\n",
    "\n",
    "print(\"ROC AUC: {}\\nRecall: {}\\nPrecision: {}\\nAccuracy: {}\".format(roc_auc, recall, precision, accuracy))\n",
    "fpr, tpr, threshold = roc_curve(y_cc_test, y_cc_preds)\n",
    "roc_auc = auc(fpr, tpr)\n",
    "\n",
    "import matplotlib.pyplot as plt\n",
    "plt.title('Receiver Operating Characteristic')\n",
    "plt.plot(fpr, tpr, 'b', label = 'AUC = %0.2f' % roc_auc)\n",
    "plt.legend(loc = 'lower right')\n",
    "plt.plot([0, 1], [0, 1],'r--')\n",
    "plt.xlim([0, 1])\n",
    "plt.ylim([0, 1])\n",
    "plt.ylabel('True Positive Rate')\n",
    "plt.xlabel('False Positive Rate')\n",
    "plt.show()\n",
    "\n",
    "cnf_matrix_cc = confusion_matrix(y_cc_test, y_cc_preds)\n",
    "plt.figure()\n",
    "plot_confusion_matrix(cnf_matrix_cc, classes=[0, 1], normalize=True,\n",
    "                      title='Normalized confusion matrix')\n",
    "\n",
    "plt.show()"
   ]
  },
  {
   "cell_type": "code",
   "execution_count": null,
   "metadata": {},
   "outputs": [],
   "source": [
    "# zoo\n",
    "svm_zoo = SVC(kernel='rbf', random_state=100)\n",
    "svm_zoo.fit(x_zoo_train, y_zoo_train)\n",
    "y_zoo_preds = svm_zoo.predict(x_zoo_test)\n",
    "\n",
    "cnf_matrix_zoo = confusion_matrix(y_zoo_test, y_zoo_preds)\n",
    "plt.figure()\n",
    "plot_confusion_matrix(cnf_matrix_zoo, classes=zoo_classes, normalize=True,\n",
    "                      title='Normalized confusion matrix')\n",
    "\n",
    "plt.show()\n",
    "\n",
    "accuracy = metrics.accuracy_score(y_zoo_test, y_zoo_preds)\n",
    "\n",
    "print(\"Accuracy: {}\".format(accuracy))"
   ]
  },
  {
   "cell_type": "code",
   "execution_count": 13,
   "metadata": {},
   "outputs": [
    {
     "name": "stderr",
     "output_type": "stream",
     "text": [
      "C:\\Users\\kinguyen\\AppData\\Local\\Programs\\Python\\Python36\\lib\\site-packages\\sklearn\\utils\\validation.py:752: DataConversionWarning: A column-vector y was passed when a 1d array was expected. Please change the shape of y to (n_samples, ), for example using ravel().\n",
      "  y = column_or_1d(y, warn=True)\n",
      "C:\\Users\\kinguyen\\AppData\\Local\\Programs\\Python\\Python36\\lib\\site-packages\\sklearn\\svm\\base.py:196: FutureWarning: The default value of gamma will change from 'auto' to 'scale' in version 0.22 to account better for unscaled features. Set gamma explicitly to 'auto' or 'scale' to avoid this warning.\n",
      "  \"avoid this warning.\", FutureWarning)\n"
     ]
    },
    {
     "name": "stdout",
     "output_type": "stream",
     "text": [
      "Normalized confusion matrix\n",
      "[[1.   0.   0.   0.   0.   0.   0.  ]\n",
      " [0.   1.   0.   0.   0.   0.   0.  ]\n",
      " [0.5  0.   0.   0.5  0.   0.   0.  ]\n",
      " [0.   0.   0.   1.   0.   0.   0.  ]\n",
      " [0.   0.   0.   0.   1.   0.   0.  ]\n",
      " [0.   0.   0.   0.   0.   1.   0.  ]\n",
      " [0.   0.   0.   0.   0.   0.33 0.67]]\n"
     ]
    },
    {
     "data": {
      "image/png": "[encoded data removed]",
      "text/plain": [
       "<Figure size 432x288 with 2 Axes>"
      ]
     },
     "metadata": {},
     "output_type": "display_data"
    },
    {
     "name": "stdout",
     "output_type": "stream",
     "text": [
      "Accuracy: 0.9032258064516129\n",
      "Normalized confusion matrix\n",
      "[[1.   0.   0.   0.   0.   0.   0.  ]\n",
      " [0.   1.   0.   0.   0.   0.   0.  ]\n",
      " [0.   0.   0.   0.5  0.5  0.   0.  ]\n",
      " [0.   0.   0.   1.   0.   0.   0.  ]\n",
      " [0.   0.   0.   0.   1.   0.   0.  ]\n",
      " [0.   0.   0.   0.   0.   1.   0.  ]\n",
      " [0.   0.   0.   0.   0.   0.33 0.67]]\n"
     ]
    },
    {
     "name": "stderr",
     "output_type": "stream",
     "text": [
      "C:\\Users\\kinguyen\\AppData\\Local\\Programs\\Python\\Python36\\lib\\site-packages\\sklearn\\utils\\validation.py:752: DataConversionWarning: A column-vector y was passed when a 1d array was expected. Please change the shape of y to (n_samples, ), for example using ravel().\n",
      "  y = column_or_1d(y, warn=True)\n"
     ]
    },
    {
     "data": {
      "image/png": "[encoded data removed]",
      "text/plain": [
       "<Figure size 432x288 with 2 Axes>"
      ]
     },
     "metadata": {},
     "output_type": "display_data"
    },
    {
     "name": "stdout",
     "output_type": "stream",
     "text": [
      "Accuracy: 0.9032258064516129\n"
     ]
    }
   ],
   "source": [
    "\n",
    "svm_zoo = SVC(kernel='linear', random_state=100)\n",
    "svm_zoo.fit(x_zoo_train, y_zoo_train)\n",
    "y_zoo_preds = svm_zoo.predict(x_zoo_test)\n",
    "\n",
    "cnf_matrix_zoo = confusion_matrix(y_zoo_test, y_zoo_preds)\n",
    "plt.figure()\n",
    "plot_confusion_matrix(cnf_matrix_zoo, classes=zoo_classes, normalize=True,\n",
    "                      title='Normalized confusion matrix')\n",
    "\n",
    "plt.show()\n",
    "\n",
    "accuracy = metrics.accuracy_score(y_zoo_test, y_zoo_preds)\n",
    "\n",
    "print(\"Accuracy: {}\".format(accuracy))"
   ]
  },
  {
   "cell_type": "markdown",
   "metadata": {},
   "source": [
    "## GradientBoosting"
   ]
  },
  {
   "cell_type": "code",
   "execution_count": 27,
   "metadata": {},
   "outputs": [
    {
     "name": "stderr",
     "output_type": "stream",
     "text": [
      "C:\\Users\\kinguyen\\AppData\\Local\\Programs\\Python\\Python36\\lib\\site-packages\\sklearn\\utils\\validation.py:752: DataConversionWarning: A column-vector y was passed when a 1d array was expected. Please change the shape of y to (n_samples, ), for example using ravel().\n",
      "  y = column_or_1d(y, warn=True)\n"
     ]
    },
    {
     "name": "stdout",
     "output_type": "stream",
     "text": [
      "ROC AUC: 0.6706472941992747\n",
      "Recall: 0.34146341463414637\n",
      "Precision: 0.7777777777777778\n",
      "Accuracy: 0.9986938569141316\n"
     ]
    },
    {
     "data": {
      "image/png": "[encoded data removed]",
      "text/plain": [
       "<Figure size 432x288 with 1 Axes>"
      ]
     },
     "metadata": {},
     "output_type": "display_data"
    },
    {
     "name": "stdout",
     "output_type": "stream",
     "text": [
      "Normalized confusion matrix\n",
      "[[1.00e+00 1.69e-04]\n",
      " [6.59e-01 3.41e-01]]\n"
     ]
    },
    {
     "data": {
      "image/png": "[encoded data removed]",
      "text/plain": [
       "<Figure size 432x288 with 2 Axes>"
      ]
     },
     "metadata": {},
     "output_type": "display_data"
    }
   ],
   "source": [
    "from sklearn.ensemble import GradientBoostingClassifier\n",
    "# CC\n",
    "boosting_cc = GradientBoostingClassifier(min_samples_split=20, random_state=100)\n",
    "boosting_cc.fit(x_cc_train, y_cc_train)\n",
    "y_cc_preds = boosting_cc.predict(x_cc_test)\n",
    "\n",
    "roc_auc = metrics.roc_auc_score(y_cc_test, y_cc_preds)\n",
    "precision = metrics.precision_score(y_cc_test, y_cc_preds)\n",
    "recall = metrics.recall_score(y_cc_test, y_cc_preds)\n",
    "accuracy = metrics.accuracy_score(y_cc_test, y_cc_preds)\n",
    "\n",
    "print(\"ROC AUC: {}\\nRecall: {}\\nPrecision: {}\\nAccuracy: {}\".format(roc_auc, recall, precision, accuracy))\n",
    "fpr, tpr, threshold = roc_curve(y_cc_test, y_cc_preds)\n",
    "roc_auc = auc(fpr, tpr)\n",
    "\n",
    "import matplotlib.pyplot as plt\n",
    "plt.title('Receiver Operating Characteristic')\n",
    "plt.plot(fpr, tpr, 'b', label = 'AUC = %0.2f' % roc_auc)\n",
    "plt.legend(loc = 'lower right')\n",
    "plt.plot([0, 1], [0, 1],'r--')\n",
    "plt.xlim([0, 1])\n",
    "plt.ylim([0, 1])\n",
    "plt.ylabel('True Positive Rate')\n",
    "plt.xlabel('False Positive Rate')\n",
    "plt.show()\n",
    "\n",
    "cnf_matrix_cc = confusion_matrix(y_cc_test, y_cc_preds)\n",
    "plt.figure()\n",
    "plot_confusion_matrix(cnf_matrix_cc, classes=[0, 1], normalize=True,\n",
    "                      title='Normalized confusion matrix')\n",
    "\n",
    "plt.show()"
   ]
  },
  {
   "cell_type": "code",
   "execution_count": 28,
   "metadata": {},
   "outputs": [
    {
     "name": "stderr",
     "output_type": "stream",
     "text": [
      "C:\\Users\\kinguyen\\AppData\\Local\\Programs\\Python\\Python36\\lib\\site-packages\\sklearn\\model_selection\\_split.py:1943: FutureWarning: You should specify a value for 'cv' instead of relying on the default value. The default value will change from 3 to 5 in version 0.22.\n",
      "  warnings.warn(CV_WARNING, FutureWarning)\n"
     ]
    },
    {
     "data": {
      "image/png": "[encoded data removed]",
      "text/plain": [
       "<Figure size 432x288 with 1 Axes>"
      ]
     },
     "metadata": {},
     "output_type": "display_data"
    }
   ],
   "source": [
    "title = \"GradientBoosting on CC\"\n",
    "plot_learning_curve(boosting_cc, title, x_cc, y_cc, ylim=(0.7, 1.01), n_jobs=-1)\n",
    "plt.show()"
   ]
  },
  {
   "cell_type": "code",
   "execution_count": 17,
   "metadata": {},
   "outputs": [
    {
     "name": "stderr",
     "output_type": "stream",
     "text": [
      "C:\\Users\\kinguyen\\AppData\\Local\\Programs\\Python\\Python36\\lib\\site-packages\\sklearn\\utils\\validation.py:752: DataConversionWarning: A column-vector y was passed when a 1d array was expected. Please change the shape of y to (n_samples, ), for example using ravel().\n",
      "  y = column_or_1d(y, warn=True)\n"
     ]
    },
    {
     "name": "stdout",
     "output_type": "stream",
     "text": [
      "Normalized confusion matrix\n",
      "[[1.   0.   0.   0.   0.   0.   0.  ]\n",
      " [0.   1.   0.   0.   0.   0.   0.  ]\n",
      " [0.   0.   0.5  0.5  0.   0.   0.  ]\n",
      " [0.   0.   0.   1.   0.   0.   0.  ]\n",
      " [0.   0.   0.   0.   1.   0.   0.  ]\n",
      " [0.   0.   0.   0.   0.   1.   0.  ]\n",
      " [0.   0.   0.   0.   0.   0.33 0.67]]\n"
     ]
    },
    {
     "data": {
      "image/png": "[encoded data removed]",
      "text/plain": [
       "<Figure size 432x288 with 2 Axes>"
      ]
     },
     "metadata": {},
     "output_type": "display_data"
    },
    {
     "name": "stdout",
     "output_type": "stream",
     "text": [
      "Accuracy: 0.9354838709677419\n"
     ]
    }
   ],
   "source": [
    "# zoo\n",
    "boosting_zoo = GradientBoostingClassifier(min_samples_split=20, random_state=100)\n",
    "boosting_zoo.fit(x_zoo_train, y_zoo_train)\n",
    "y_zoo_preds = boosting_zoo.predict(x_zoo_test)\n",
    "\n",
    "cnf_matrix_zoo = confusion_matrix(y_zoo_test, y_zoo_preds)\n",
    "plt.figure()\n",
    "plot_confusion_matrix(cnf_matrix_zoo, classes=zoo_classes, normalize=True,\n",
    "                      title='Normalized confusion matrix')\n",
    "\n",
    "plt.show()\n",
    "\n",
    "accuracy = metrics.accuracy_score(y_zoo_test, y_zoo_preds)\n",
    "\n",
    "print(\"Accuracy: {}\".format(accuracy))"
   ]
  },
  {
   "cell_type": "code",
   "execution_count": null,
   "metadata": {},
   "outputs": [],
   "source": [
    "title = \"Gradient Boosting on Zoo\"\n",
    "plot_learning_curve(boosting_zoo, title, x_cc, y_cc, ylim=(0.7, 1.01), n_jobs=-1)\n",
    "plt.show()"
   ]
  },
  {
   "cell_type": "markdown",
   "metadata": {
    "collapsed": true
   },
   "source": [
    "## AdaBoostClassifier"
   ]
  },
  {
   "cell_type": "code",
   "execution_count": 29,
   "metadata": {},
   "outputs": [
    {
     "name": "stderr",
     "output_type": "stream",
     "text": [
      "C:\\Users\\kinguyen\\AppData\\Local\\Programs\\Python\\Python36\\lib\\site-packages\\sklearn\\utils\\validation.py:752: DataConversionWarning: A column-vector y was passed when a 1d array was expected. Please change the shape of y to (n_samples, ), for example using ravel().\n",
      "  y = column_or_1d(y, warn=True)\n"
     ]
    },
    {
     "name": "stdout",
     "output_type": "stream",
     "text": [
      "ROC AUC: 0.8412945883985494\n",
      "Recall: 0.6829268292682927\n",
      "Precision: 0.7777777777777778\n",
      "Accuracy: 0.999115193393444\n"
     ]
    },
    {
     "data": {
      "image/png": "[encoded data removed]",
      "text/plain": [
       "<Figure size 432x288 with 1 Axes>"
      ]
     },
     "metadata": {},
     "output_type": "display_data"
    },
    {
     "name": "stdout",
     "output_type": "stream",
     "text": [
      "Normalized confusion matrix\n",
      "[[1.00e+00 3.38e-04]\n",
      " [3.17e-01 6.83e-01]]\n"
     ]
    },
    {
     "data": {
      "image/png": "[encoded data removed]",
      "text/plain": [
       "<Figure size 432x288 with 2 Axes>"
      ]
     },
     "metadata": {},
     "output_type": "display_data"
    }
   ],
   "source": [
    "from sklearn.ensemble import AdaBoostClassifier\n",
    "\n",
    "# CC\n",
    "ada_cc = AdaBoostClassifier(random_state=100)\n",
    "ada_cc.fit(x_cc_train, y_cc_train)\n",
    "y_cc_preds = ada_cc.predict(x_cc_test)\n",
    "\n",
    "roc_auc = metrics.roc_auc_score(y_cc_test, y_cc_preds)\n",
    "precision = metrics.precision_score(y_cc_test, y_cc_preds)\n",
    "recall = metrics.recall_score(y_cc_test, y_cc_preds)\n",
    "accuracy = metrics.accuracy_score(y_cc_test, y_cc_preds)\n",
    "\n",
    "print(\"ROC AUC: {}\\nRecall: {}\\nPrecision: {}\\nAccuracy: {}\".format(roc_auc, recall, precision, accuracy))\n",
    "fpr, tpr, threshold = roc_curve(y_cc_test, y_cc_preds)\n",
    "roc_auc = auc(fpr, tpr)\n",
    "\n",
    "import matplotlib.pyplot as plt\n",
    "plt.title('Receiver Operating Characteristic')\n",
    "plt.plot(fpr, tpr, 'b', label = 'AUC = %0.2f' % roc_auc)\n",
    "plt.legend(loc = 'lower right')\n",
    "plt.plot([0, 1], [0, 1],'r--')\n",
    "plt.xlim([0, 1])\n",
    "plt.ylim([0, 1])\n",
    "plt.ylabel('True Positive Rate')\n",
    "plt.xlabel('False Positive Rate')\n",
    "plt.show()\n",
    "\n",
    "cnf_matrix_cc = confusion_matrix(y_cc_test, y_cc_preds)\n",
    "plt.figure()\n",
    "plot_confusion_matrix(cnf_matrix_cc, classes=[0, 1], normalize=True,\n",
    "                      title='Normalized confusion matrix')\n",
    "\n",
    "plt.show()"
   ]
  },
  {
   "cell_type": "code",
   "execution_count": 30,
   "metadata": {},
   "outputs": [
    {
     "name": "stderr",
     "output_type": "stream",
     "text": [
      "C:\\Users\\kinguyen\\AppData\\Local\\Programs\\Python\\Python36\\lib\\site-packages\\sklearn\\model_selection\\_split.py:1943: FutureWarning: You should specify a value for 'cv' instead of relying on the default value. The default value will change from 3 to 5 in version 0.22.\n",
      "  warnings.warn(CV_WARNING, FutureWarning)\n"
     ]
    },
    {
     "data": {
      "image/png": "[encoded data removed]",
      "text/plain": [
       "<Figure size 432x288 with 1 Axes>"
      ]
     },
     "metadata": {},
     "output_type": "display_data"
    }
   ],
   "source": [
    "title = \"Ada on CC\"\n",
    "plot_learning_curve(ada_cc, title, x_cc, y_cc, ylim=(0.7, 1.01), n_jobs=-1)\n",
    "plt.show()"
   ]
  },
  {
   "cell_type": "code",
   "execution_count": 19,
   "metadata": {},
   "outputs": [
    {
     "name": "stderr",
     "output_type": "stream",
     "text": [
      "C:\\Users\\kinguyen\\AppData\\Local\\Programs\\Python\\Python36\\lib\\site-packages\\sklearn\\utils\\validation.py:752: DataConversionWarning: A column-vector y was passed when a 1d array was expected. Please change the shape of y to (n_samples, ), for example using ravel().\n",
      "  y = column_or_1d(y, warn=True)\n"
     ]
    },
    {
     "name": "stdout",
     "output_type": "stream",
     "text": [
      "Normalized confusion matrix\n",
      "[[1. 0. 0. 0. 0. 0. 0.]\n",
      " [0. 1. 0. 0. 0. 0. 0.]\n",
      " [0. 0. 0. 1. 0. 0. 0.]\n",
      " [0. 0. 0. 1. 0. 0. 0.]\n",
      " [0. 0. 0. 1. 0. 0. 0.]\n",
      " [0. 0. 0. 1. 0. 0. 0.]\n",
      " [0. 0. 0. 1. 0. 0. 0.]]\n"
     ]
    },
    {
     "data": {
      "image/png": "[encoded data removed]",
      "text/plain": [
       "<Figure size 432x288 with 2 Axes>"
      ]
     },
     "metadata": {},
     "output_type": "display_data"
    },
    {
     "name": "stdout",
     "output_type": "stream",
     "text": [
      "Accuracy: 0.7419354838709677\n"
     ]
    }
   ],
   "source": [
    "# zoo\n",
    "ada_zoo = AdaBoostClassifier(random_state=100)\n",
    "ada_zoo.fit(x_zoo_train, y_zoo_train)\n",
    "y_zoo_preds = ada_zoo.predict(x_zoo_test)\n",
    "\n",
    "cnf_matrix_zoo = confusion_matrix(y_zoo_test, y_zoo_preds)\n",
    "plt.figure()\n",
    "plot_confusion_matrix(cnf_matrix_zoo, classes=zoo_classes, normalize=True,\n",
    "                      title='Normalized confusion matrix')\n",
    "\n",
    "plt.show()\n",
    "\n",
    "accuracy = metrics.accuracy_score(y_zoo_test, y_zoo_preds)\n",
    "\n",
    "print(\"Accuracy: {}\".format(accuracy))"
   ]
  },
  {
   "cell_type": "code",
   "execution_count": null,
   "metadata": {},
   "outputs": [],
   "source": [
    "title = \"Ada on Zoo\"\n",
    "plot_learning_curve(ada_zoo, title, x_cc, y_cc, ylim=(0.7, 1.01), n_jobs=-1)\n",
    "plt.show()"
   ]
  },
  {
   "cell_type": "code",
   "execution_count": 21,
   "metadata": {
    "scrolled": true
   },
   "outputs": [
    {
     "name": "stderr",
     "output_type": "stream",
     "text": [
      "C:\\Users\\kinguyen\\AppData\\Local\\Programs\\Python\\Python36\\lib\\site-packages\\sklearn\\model_selection\\_split.py:626: Warning: The least populated class in y has only 4 members, which is too few. The minimum number of members in any class cannot be less than n_splits=5.\n",
      "  % (min_groups, self.n_splits)), Warning)\n"
     ]
    },
    {
     "name": "stdout",
     "output_type": "stream",
     "text": [
      "Decision Tree\n",
      "Zoo Accuracy: 0.86 (+/- 0.14)\n",
      "CC Accuracy: 0.80 (+/- 0.79)\n"
     ]
    },
    {
     "name": "stderr",
     "output_type": "stream",
     "text": [
      "C:\\Users\\kinguyen\\AppData\\Local\\Programs\\Python\\Python36\\lib\\site-packages\\sklearn\\model_selection\\_split.py:626: Warning: The least populated class in y has only 4 members, which is too few. The minimum number of members in any class cannot be less than n_splits=5.\n",
      "  % (min_groups, self.n_splits)), Warning)\n"
     ]
    },
    {
     "name": "stdout",
     "output_type": "stream",
     "text": [
      "Decision Tree Balanced\n",
      "Zoo Accuracy: 0.59 (+/- 0.28)\n",
      "CC Accuracy: 0.81 (+/- 0.75)\n"
     ]
    },
    {
     "name": "stderr",
     "output_type": "stream",
     "text": [
      "C:\\Users\\kinguyen\\AppData\\Local\\Programs\\Python\\Python36\\lib\\site-packages\\sklearn\\model_selection\\_split.py:626: Warning: The least populated class in y has only 4 members, which is too few. The minimum number of members in any class cannot be less than n_splits=5.\n",
      "  % (min_groups, self.n_splits)), Warning)\n"
     ]
    },
    {
     "name": "stdout",
     "output_type": "stream",
     "text": [
      "KNN\n",
      "Zoo Accuracy: 0.85 (+/- 0.09)\n",
      "CC Accuracy: 0.45 (+/- 0.64)\n"
     ]
    },
    {
     "name": "stderr",
     "output_type": "stream",
     "text": [
      "C:\\Users\\kinguyen\\AppData\\Local\\Programs\\Python\\Python36\\lib\\site-packages\\sklearn\\model_selection\\_split.py:626: Warning: The least populated class in y has only 4 members, which is too few. The minimum number of members in any class cannot be less than n_splits=5.\n",
      "  % (min_groups, self.n_splits)), Warning)\n"
     ]
    },
    {
     "name": "stdout",
     "output_type": "stream",
     "text": [
      "Neural Network\n",
      "Zoo Accuracy: 0.96 (+/- 0.04)\n",
      "CC Accuracy: 0.98 (+/- 0.07)\n"
     ]
    },
    {
     "name": "stderr",
     "output_type": "stream",
     "text": [
      "C:\\Users\\kinguyen\\AppData\\Local\\Programs\\Python\\Python36\\lib\\site-packages\\sklearn\\model_selection\\_split.py:626: Warning: The least populated class in y has only 4 members, which is too few. The minimum number of members in any class cannot be less than n_splits=5.\n",
      "  % (min_groups, self.n_splits)), Warning)\n"
     ]
    },
    {
     "name": "stdout",
     "output_type": "stream",
     "text": [
      "Gradient Boosting\n",
      "Zoo Accuracy: 0.95 (+/- 0.12)\n",
      "CC Accuracy: 0.80 (+/- 0.79)\n"
     ]
    },
    {
     "name": "stderr",
     "output_type": "stream",
     "text": [
      "C:\\Users\\kinguyen\\AppData\\Local\\Programs\\Python\\Python36\\lib\\site-packages\\sklearn\\model_selection\\_split.py:626: Warning: The least populated class in y has only 4 members, which is too few. The minimum number of members in any class cannot be less than n_splits=5.\n",
      "  % (min_groups, self.n_splits)), Warning)\n"
     ]
    },
    {
     "name": "stdout",
     "output_type": "stream",
     "text": [
      "ADA Boosting\n",
      "Zoo Accuracy: 0.73 (+/- 0.05)\n",
      "CC Accuracy: 0.83 (+/- 0.68)\n"
     ]
    },
    {
     "name": "stderr",
     "output_type": "stream",
     "text": [
      "C:\\Users\\kinguyen\\AppData\\Local\\Programs\\Python\\Python36\\lib\\site-packages\\sklearn\\model_selection\\_split.py:626: Warning: The least populated class in y has only 4 members, which is too few. The minimum number of members in any class cannot be less than n_splits=5.\n",
      "  % (min_groups, self.n_splits)), Warning)\n"
     ]
    },
    {
     "name": "stdout",
     "output_type": "stream",
     "text": [
      "SVC Linear\n",
      "Zoo Accuracy: 0.96 (+/- 0.07)\n",
      "CC Accuracy: 0.98 (+/- 0.08)\n"
     ]
    },
    {
     "name": "stderr",
     "output_type": "stream",
     "text": [
      "C:\\Users\\kinguyen\\AppData\\Local\\Programs\\Python\\Python36\\lib\\site-packages\\sklearn\\model_selection\\_split.py:626: Warning: The least populated class in y has only 4 members, which is too few. The minimum number of members in any class cannot be less than n_splits=5.\n",
      "  % (min_groups, self.n_splits)), Warning)\n"
     ]
    },
    {
     "name": "stdout",
     "output_type": "stream",
     "text": [
      "SVC RBF\n",
      "Zoo Accuracy: 0.96 (+/- 0.07)\n",
      "CC Accuracy: 0.98 (+/- 0.08)\n"
     ]
    }
   ],
   "source": [
    "# CV\n",
    "from sklearn.model_selection import cross_val_score\n",
    "\n",
    "dtc = DecisionTreeClassifier(max_features='sqrt', min_samples_leaf=5)\n",
    "scores_zoo = cross_val_score(dtc, x_zoo, y_zoo, cv=5, n_jobs=-1)\n",
    "scores_cc = cross_val_score(dtc, x_cc, y_cc, cv=5, n_jobs=-1)\n",
    "print(\"Decision Tree\")\n",
    "print(\"Zoo Accuracy: %0.2f (+/- %0.2f)\" % (scores_zoo.mean(), scores_zoo.std() * 2))\n",
    "print(\"CC Accuracy: %0.2f (+/- %0.2f)\" % (scores_cc.mean(), scores_cc.std() * 2))\n",
    "\n",
    "dtcb = DecisionTreeClassifier(max_features='sqrt', min_samples_leaf=10, class_weight='balanced')\n",
    "scores_zoo = cross_val_score(dtcb, x_zoo, y_zoo, cv=5, n_jobs=-1)\n",
    "scores_cc = cross_val_score(dtcb, x_cc, y_cc, cv=5, n_jobs=-1)\n",
    "print(\"Decision Tree Balanced\")\n",
    "print(\"Zoo Accuracy: %0.2f (+/- %0.2f)\" % (scores_zoo.mean(), scores_zoo.std() * 2))\n",
    "print(\"CC Accuracy: %0.2f (+/- %0.2f)\" % (scores_cc.mean(), scores_cc.std() * 2))\n",
    "\n",
    "knn = KNeighborsClassifier()\n",
    "scores_zoo = cross_val_score(knn, x_zoo, y_zoo, cv=5, n_jobs=-1)\n",
    "scores_cc = cross_val_score(knn, x_cc, y_cc, cv=5, n_jobs=-1)\n",
    "print(\"KNN\")\n",
    "print(\"Zoo Accuracy: %0.2f (+/- %0.2f)\" % (scores_zoo.mean(), scores_zoo.std() * 2))\n",
    "print(\"CC Accuracy: %0.2f (+/- %0.2f)\" % (scores_cc.mean(), scores_cc.std() * 2))\n",
    "\n",
    "mlp = MLPClassifier()\n",
    "scores_zoo = cross_val_score(mlp, x_zoo, y_zoo, cv=5, n_jobs=-1)\n",
    "scores_cc = cross_val_score(mlp, x_cc, y_cc, cv=5, n_jobs=-1)\n",
    "print(\"Neural Network\")\n",
    "print(\"Zoo Accuracy: %0.2f (+/- %0.2f)\" % (scores_zoo.mean(), scores_zoo.std() * 2))\n",
    "print(\"CC Accuracy: %0.2f (+/- %0.2f)\" % (scores_cc.mean(), scores_cc.std() * 2))\n",
    "\n",
    "gb = GradientBoostingClassifier(min_samples_split=20)\n",
    "scores_zoo = cross_val_score(gb, x_zoo, y_zoo, cv=5, n_jobs=-1)\n",
    "scores_cc = cross_val_score(gb, x_cc, y_cc, cv=5, n_jobs=-1)\n",
    "print(\"Gradient Boosting\")\n",
    "print(\"Zoo Accuracy: %0.2f (+/- %0.2f)\" % (scores_zoo.mean(), scores_zoo.std() * 2))\n",
    "print(\"CC Accuracy: %0.2f (+/- %0.2f)\" % (scores_cc.mean(), scores_cc.std() * 2))\n",
    "\n",
    "ada = AdaBoostClassifier()\n",
    "scores_zoo = cross_val_score(ada, x_zoo, y_zoo, cv=5, n_jobs=-1)\n",
    "scores_cc = cross_val_score(ada, x_cc, y_cc, cv=5, n_jobs=-1)\n",
    "print(\"ADA Boosting\")\n",
    "print(\"Zoo Accuracy: %0.2f (+/- %0.2f)\" % (scores_zoo.mean(), scores_zoo.std() * 2))\n",
    "print(\"CC Accuracy: %0.2f (+/- %0.2f)\" % (scores_cc.mean(), scores_cc.std() * 2))\n",
    "\n",
    "svc_linear = SVC(kernel='linear')\n",
    "scores_zoo = cross_val_score(svc_linear, x_zoo, y_zoo, cv=5, n_jobs=-1)\n",
    "scores_cc = cross_val_score(svc_linear, x_cc, y_cc, cv=5, n_jobs=-1)\n",
    "print(\"SVC Linear\")\n",
    "print(\"Zoo Accuracy: %0.2f (+/- %0.2f)\" % (scores_zoo.mean(), scores_zoo.std() * 2))\n",
    "print(\"CC Accuracy: %0.2f (+/- %0.2f)\" % (scores_cc.mean(), scores_cc.std() * 2))\n",
    "\n",
    "svc_rbf = SVC(kernel='rbf')\n",
    "scores_zoo = cross_val_score(svc_linear, x_zoo, y_zoo, cv=5, n_jobs=-1)\n",
    "scores_cc = cross_val_score(svc_linear, x_cc, y_cc, cv=5, n_jobs=-1)\n",
    "print(\"SVC RBF\")\n",
    "print(\"Zoo Accuracy: %0.2f (+/- %0.2f)\" % (scores_zoo.mean(), scores_zoo.std() * 2))\n",
    "print(\"CC Accuracy: %0.2f (+/- %0.2f)\" % (scores_cc.mean(), scores_cc.std() * 2))"
   ]
  },
  {
   "cell_type": "code",
   "execution_count": 22,
   "metadata": {},
   "outputs": [],
   "source": [
    "x_iris = x_zoo\n",
    "y_iris = y_zoo"
   ]
  },
  {
   "cell_type": "code",
   "execution_count": 27,
   "metadata": {
    "scrolled": true
   },
   "outputs": [
    {
     "name": "stderr",
     "output_type": "stream",
     "text": [
      "C:\\Users\\kinguyen\\AppData\\Local\\Programs\\Python\\Python36\\lib\\site-packages\\sklearn\\model_selection\\_split.py:626: Warning: The least populated class in y has only 4 members, which is too few. The minimum number of members in any class cannot be less than n_splits=5.\n",
      "  % (min_groups, self.n_splits)), Warning)\n"
     ]
    },
    {
     "ename": "ValueError",
     "evalue": "Target is multiclass but average='binary'. Please choose another average setting.",
     "output_type": "error",
     "traceback": [
      "\u001b[1;31m---------------------------------------------------------------------------\u001b[0m",
      "\u001b[1;31m_RemoteTraceback\u001b[0m                          Traceback (most recent call last)",
      "\u001b[1;31m_RemoteTraceback\u001b[0m: \n\"\"\"\nTraceback (most recent call last):\n  File \"C:\\Users\\kinguyen\\AppData\\Local\\Programs\\Python\\Python36\\lib\\site-packages\\sklearn\\externals\\joblib\\externals\\loky\\process_executor.py\", line 420, in _process_worker\n    r = call_item.fn(*call_item.args, **call_item.kwargs)\n  File \"C:\\Users\\kinguyen\\AppData\\Local\\Programs\\Python\\Python36\\lib\\site-packages\\sklearn\\externals\\joblib\\_parallel_backends.py\", line 563, in __call__\n    return self.func(*args, **kwargs)\n  File \"C:\\Users\\kinguyen\\AppData\\Local\\Programs\\Python\\Python36\\lib\\site-packages\\sklearn\\externals\\joblib\\parallel.py\", line 261, in __call__\n    for func, args, kwargs in self.items]\n  File \"C:\\Users\\kinguyen\\AppData\\Local\\Programs\\Python\\Python36\\lib\\site-packages\\sklearn\\externals\\joblib\\parallel.py\", line 261, in <listcomp>\n    for func, args, kwargs in self.items]\n  File \"C:\\Users\\kinguyen\\AppData\\Local\\Programs\\Python\\Python36\\lib\\site-packages\\sklearn\\model_selection\\_validation.py\", line 568, in _fit_and_score\n    test_scores = _score(estimator, X_test, y_test, scorer, is_multimetric)\n  File \"C:\\Users\\kinguyen\\AppData\\Local\\Programs\\Python\\Python36\\lib\\site-packages\\sklearn\\model_selection\\_validation.py\", line 605, in _score\n    return _multimetric_score(estimator, X_test, y_test, scorer)\n  File \"C:\\Users\\kinguyen\\AppData\\Local\\Programs\\Python\\Python36\\lib\\site-packages\\sklearn\\model_selection\\_validation.py\", line 635, in _multimetric_score\n    score = scorer(estimator, X_test, y_test)\n  File \"C:\\Users\\kinguyen\\AppData\\Local\\Programs\\Python\\Python36\\lib\\site-packages\\sklearn\\metrics\\scorer.py\", line 98, in __call__\n    **self._kwargs)\n  File \"C:\\Users\\kinguyen\\AppData\\Local\\Programs\\Python\\Python36\\lib\\site-packages\\sklearn\\metrics\\classification.py\", line 720, in f1_score\n    sample_weight=sample_weight)\n  File \"C:\\Users\\kinguyen\\AppData\\Local\\Programs\\Python\\Python36\\lib\\site-packages\\sklearn\\metrics\\classification.py\", line 834, in fbeta_score\n    sample_weight=sample_weight)\n  File \"C:\\Users\\kinguyen\\AppData\\Local\\Programs\\Python\\Python36\\lib\\site-packages\\sklearn\\metrics\\classification.py\", line 1047, in precision_recall_fscore_support\n    \"choose another average setting.\" % y_type)\nValueError: Target is multiclass but average='binary'. Please choose another average setting.\n\"\"\"",
      "\nThe above exception was the direct cause of the following exception:\n",
      "\u001b[1;31mValueError\u001b[0m                                Traceback (most recent call last)",
      "\u001b[1;32m<ipython-input-27-f3ac1606b12e>\u001b[0m in \u001b[0;36m<module>\u001b[1;34m()\u001b[0m\n\u001b[0;32m      3\u001b[0m \u001b[1;33m\u001b[0m\u001b[0m\n\u001b[0;32m      4\u001b[0m \u001b[0mdtc\u001b[0m \u001b[1;33m=\u001b[0m \u001b[0mDecisionTreeClassifier\u001b[0m\u001b[1;33m(\u001b[0m\u001b[0mmax_features\u001b[0m\u001b[1;33m=\u001b[0m\u001b[1;34m'sqrt'\u001b[0m\u001b[1;33m,\u001b[0m \u001b[0mmin_samples_leaf\u001b[0m\u001b[1;33m=\u001b[0m\u001b[1;36m5\u001b[0m\u001b[1;33m)\u001b[0m\u001b[1;33m\u001b[0m\u001b[0m\n\u001b[1;32m----> 5\u001b[1;33m \u001b[0mscores_iris\u001b[0m \u001b[1;33m=\u001b[0m \u001b[0mcross_val_score\u001b[0m\u001b[1;33m(\u001b[0m\u001b[0mdtc\u001b[0m\u001b[1;33m,\u001b[0m \u001b[0mx_iris\u001b[0m\u001b[1;33m,\u001b[0m \u001b[0my_iris\u001b[0m\u001b[1;33m,\u001b[0m \u001b[0mcv\u001b[0m\u001b[1;33m=\u001b[0m\u001b[1;36m5\u001b[0m\u001b[1;33m,\u001b[0m \u001b[0mscoring\u001b[0m\u001b[1;33m=\u001b[0m\u001b[1;34m'f1'\u001b[0m\u001b[1;33m,\u001b[0m \u001b[0mn_jobs\u001b[0m\u001b[1;33m=\u001b[0m\u001b[1;33m-\u001b[0m\u001b[1;36m1\u001b[0m\u001b[1;33m)\u001b[0m\u001b[1;33m\u001b[0m\u001b[0m\n\u001b[0m\u001b[0;32m      6\u001b[0m \u001b[0mscores_cc\u001b[0m \u001b[1;33m=\u001b[0m \u001b[0mcross_val_score\u001b[0m\u001b[1;33m(\u001b[0m\u001b[0mdtc\u001b[0m\u001b[1;33m,\u001b[0m \u001b[0mx_cc\u001b[0m\u001b[1;33m,\u001b[0m \u001b[0my_cc\u001b[0m\u001b[1;33m,\u001b[0m \u001b[0mcv\u001b[0m\u001b[1;33m=\u001b[0m\u001b[1;36m5\u001b[0m\u001b[1;33m,\u001b[0m \u001b[0mscoring\u001b[0m\u001b[1;33m=\u001b[0m\u001b[1;34m'f1'\u001b[0m\u001b[1;33m,\u001b[0m \u001b[0mn_jobs\u001b[0m\u001b[1;33m=\u001b[0m\u001b[1;33m-\u001b[0m\u001b[1;36m1\u001b[0m\u001b[1;33m)\u001b[0m\u001b[1;33m\u001b[0m\u001b[0m\n\u001b[0;32m      7\u001b[0m \u001b[0mprint\u001b[0m\u001b[1;33m(\u001b[0m\u001b[1;34m\"Decision Tree\"\u001b[0m\u001b[1;33m)\u001b[0m\u001b[1;33m\u001b[0m\u001b[0m\n",
      "\u001b[1;32m~\\AppData\\Local\\Programs\\Python\\Python36\\lib\\site-packages\\sklearn\\model_selection\\_validation.py\u001b[0m in \u001b[0;36mcross_val_score\u001b[1;34m(estimator, X, y, groups, scoring, cv, n_jobs, verbose, fit_params, pre_dispatch, error_score)\u001b[0m\n\u001b[0;32m    400\u001b[0m                                 \u001b[0mfit_params\u001b[0m\u001b[1;33m=\u001b[0m\u001b[0mfit_params\u001b[0m\u001b[1;33m,\u001b[0m\u001b[1;33m\u001b[0m\u001b[0m\n\u001b[0;32m    401\u001b[0m                                 \u001b[0mpre_dispatch\u001b[0m\u001b[1;33m=\u001b[0m\u001b[0mpre_dispatch\u001b[0m\u001b[1;33m,\u001b[0m\u001b[1;33m\u001b[0m\u001b[0m\n\u001b[1;32m--> 402\u001b[1;33m                                 error_score=error_score)\n\u001b[0m\u001b[0;32m    403\u001b[0m     \u001b[1;32mreturn\u001b[0m \u001b[0mcv_results\u001b[0m\u001b[1;33m[\u001b[0m\u001b[1;34m'test_score'\u001b[0m\u001b[1;33m]\u001b[0m\u001b[1;33m\u001b[0m\u001b[0m\n\u001b[0;32m    404\u001b[0m \u001b[1;33m\u001b[0m\u001b[0m\n",
      "\u001b[1;32m~\\AppData\\Local\\Programs\\Python\\Python36\\lib\\site-packages\\sklearn\\model_selection\\_validation.py\u001b[0m in \u001b[0;36mcross_validate\u001b[1;34m(estimator, X, y, groups, scoring, cv, n_jobs, verbose, fit_params, pre_dispatch, return_train_score, return_estimator, error_score)\u001b[0m\n\u001b[0;32m    238\u001b[0m             \u001b[0mreturn_times\u001b[0m\u001b[1;33m=\u001b[0m\u001b[1;32mTrue\u001b[0m\u001b[1;33m,\u001b[0m \u001b[0mreturn_estimator\u001b[0m\u001b[1;33m=\u001b[0m\u001b[0mreturn_estimator\u001b[0m\u001b[1;33m,\u001b[0m\u001b[1;33m\u001b[0m\u001b[0m\n\u001b[0;32m    239\u001b[0m             error_score=error_score)\n\u001b[1;32m--> 240\u001b[1;33m         for train, test in cv.split(X, y, groups))\n\u001b[0m\u001b[0;32m    241\u001b[0m \u001b[1;33m\u001b[0m\u001b[0m\n\u001b[0;32m    242\u001b[0m     \u001b[0mzipped_scores\u001b[0m \u001b[1;33m=\u001b[0m \u001b[0mlist\u001b[0m\u001b[1;33m(\u001b[0m\u001b[0mzip\u001b[0m\u001b[1;33m(\u001b[0m\u001b[1;33m*\u001b[0m\u001b[0mscores\u001b[0m\u001b[1;33m)\u001b[0m\u001b[1;33m)\u001b[0m\u001b[1;33m\u001b[0m\u001b[0m\n",
      "\u001b[1;32m~\\AppData\\Local\\Programs\\Python\\Python36\\lib\\site-packages\\sklearn\\externals\\joblib\\parallel.py\u001b[0m in \u001b[0;36m__call__\u001b[1;34m(self, iterable)\u001b[0m\n\u001b[0;32m    994\u001b[0m \u001b[1;33m\u001b[0m\u001b[0m\n\u001b[0;32m    995\u001b[0m             \u001b[1;32mwith\u001b[0m \u001b[0mself\u001b[0m\u001b[1;33m.\u001b[0m\u001b[0m_backend\u001b[0m\u001b[1;33m.\u001b[0m\u001b[0mretrieval_context\u001b[0m\u001b[1;33m(\u001b[0m\u001b[1;33m)\u001b[0m\u001b[1;33m:\u001b[0m\u001b[1;33m\u001b[0m\u001b[0m\n\u001b[1;32m--> 996\u001b[1;33m                 \u001b[0mself\u001b[0m\u001b[1;33m.\u001b[0m\u001b[0mretrieve\u001b[0m\u001b[1;33m(\u001b[0m\u001b[1;33m)\u001b[0m\u001b[1;33m\u001b[0m\u001b[0m\n\u001b[0m\u001b[0;32m    997\u001b[0m             \u001b[1;31m# Make sure that we get a last message telling us we are done\u001b[0m\u001b[1;33m\u001b[0m\u001b[1;33m\u001b[0m\u001b[0m\n\u001b[0;32m    998\u001b[0m             \u001b[0melapsed_time\u001b[0m \u001b[1;33m=\u001b[0m \u001b[0mtime\u001b[0m\u001b[1;33m.\u001b[0m\u001b[0mtime\u001b[0m\u001b[1;33m(\u001b[0m\u001b[1;33m)\u001b[0m \u001b[1;33m-\u001b[0m \u001b[0mself\u001b[0m\u001b[1;33m.\u001b[0m\u001b[0m_start_time\u001b[0m\u001b[1;33m\u001b[0m\u001b[0m\n",
      "\u001b[1;32m~\\AppData\\Local\\Programs\\Python\\Python36\\lib\\site-packages\\sklearn\\externals\\joblib\\parallel.py\u001b[0m in \u001b[0;36mretrieve\u001b[1;34m(self)\u001b[0m\n\u001b[0;32m    897\u001b[0m             \u001b[1;32mtry\u001b[0m\u001b[1;33m:\u001b[0m\u001b[1;33m\u001b[0m\u001b[0m\n\u001b[0;32m    898\u001b[0m                 \u001b[1;32mif\u001b[0m \u001b[0mgetattr\u001b[0m\u001b[1;33m(\u001b[0m\u001b[0mself\u001b[0m\u001b[1;33m.\u001b[0m\u001b[0m_backend\u001b[0m\u001b[1;33m,\u001b[0m \u001b[1;34m'supports_timeout'\u001b[0m\u001b[1;33m,\u001b[0m \u001b[1;32mFalse\u001b[0m\u001b[1;33m)\u001b[0m\u001b[1;33m:\u001b[0m\u001b[1;33m\u001b[0m\u001b[0m\n\u001b[1;32m--> 899\u001b[1;33m                     \u001b[0mself\u001b[0m\u001b[1;33m.\u001b[0m\u001b[0m_output\u001b[0m\u001b[1;33m.\u001b[0m\u001b[0mextend\u001b[0m\u001b[1;33m(\u001b[0m\u001b[0mjob\u001b[0m\u001b[1;33m.\u001b[0m\u001b[0mget\u001b[0m\u001b[1;33m(\u001b[0m\u001b[0mtimeout\u001b[0m\u001b[1;33m=\u001b[0m\u001b[0mself\u001b[0m\u001b[1;33m.\u001b[0m\u001b[0mtimeout\u001b[0m\u001b[1;33m)\u001b[0m\u001b[1;33m)\u001b[0m\u001b[1;33m\u001b[0m\u001b[0m\n\u001b[0m\u001b[0;32m    900\u001b[0m                 \u001b[1;32melse\u001b[0m\u001b[1;33m:\u001b[0m\u001b[1;33m\u001b[0m\u001b[0m\n\u001b[0;32m    901\u001b[0m                     \u001b[0mself\u001b[0m\u001b[1;33m.\u001b[0m\u001b[0m_output\u001b[0m\u001b[1;33m.\u001b[0m\u001b[0mextend\u001b[0m\u001b[1;33m(\u001b[0m\u001b[0mjob\u001b[0m\u001b[1;33m.\u001b[0m\u001b[0mget\u001b[0m\u001b[1;33m(\u001b[0m\u001b[1;33m)\u001b[0m\u001b[1;33m)\u001b[0m\u001b[1;33m\u001b[0m\u001b[0m\n",
      "\u001b[1;32m~\\AppData\\Local\\Programs\\Python\\Python36\\lib\\site-packages\\sklearn\\externals\\joblib\\_parallel_backends.py\u001b[0m in \u001b[0;36mwrap_future_result\u001b[1;34m(future, timeout)\u001b[0m\n\u001b[0;32m    515\u001b[0m         AsyncResults.get from multiprocessing.\"\"\"\n\u001b[0;32m    516\u001b[0m         \u001b[1;32mtry\u001b[0m\u001b[1;33m:\u001b[0m\u001b[1;33m\u001b[0m\u001b[0m\n\u001b[1;32m--> 517\u001b[1;33m             \u001b[1;32mreturn\u001b[0m \u001b[0mfuture\u001b[0m\u001b[1;33m.\u001b[0m\u001b[0mresult\u001b[0m\u001b[1;33m(\u001b[0m\u001b[0mtimeout\u001b[0m\u001b[1;33m=\u001b[0m\u001b[0mtimeout\u001b[0m\u001b[1;33m)\u001b[0m\u001b[1;33m\u001b[0m\u001b[0m\n\u001b[0m\u001b[0;32m    518\u001b[0m         \u001b[1;32mexcept\u001b[0m \u001b[0mLokyTimeoutError\u001b[0m\u001b[1;33m:\u001b[0m\u001b[1;33m\u001b[0m\u001b[0m\n\u001b[0;32m    519\u001b[0m             \u001b[1;32mraise\u001b[0m \u001b[0mTimeoutError\u001b[0m\u001b[1;33m(\u001b[0m\u001b[1;33m)\u001b[0m\u001b[1;33m\u001b[0m\u001b[0m\n",
      "\u001b[1;32m~\\AppData\\Local\\Programs\\Python\\Python36\\lib\\concurrent\\futures\\_base.py\u001b[0m in \u001b[0;36mresult\u001b[1;34m(self, timeout)\u001b[0m\n\u001b[0;32m    430\u001b[0m                 \u001b[1;32mraise\u001b[0m \u001b[0mCancelledError\u001b[0m\u001b[1;33m(\u001b[0m\u001b[1;33m)\u001b[0m\u001b[1;33m\u001b[0m\u001b[0m\n\u001b[0;32m    431\u001b[0m             \u001b[1;32melif\u001b[0m \u001b[0mself\u001b[0m\u001b[1;33m.\u001b[0m\u001b[0m_state\u001b[0m \u001b[1;33m==\u001b[0m \u001b[0mFINISHED\u001b[0m\u001b[1;33m:\u001b[0m\u001b[1;33m\u001b[0m\u001b[0m\n\u001b[1;32m--> 432\u001b[1;33m                 \u001b[1;32mreturn\u001b[0m \u001b[0mself\u001b[0m\u001b[1;33m.\u001b[0m\u001b[0m__get_result\u001b[0m\u001b[1;33m(\u001b[0m\u001b[1;33m)\u001b[0m\u001b[1;33m\u001b[0m\u001b[0m\n\u001b[0m\u001b[0;32m    433\u001b[0m             \u001b[1;32melse\u001b[0m\u001b[1;33m:\u001b[0m\u001b[1;33m\u001b[0m\u001b[0m\n\u001b[0;32m    434\u001b[0m                 \u001b[1;32mraise\u001b[0m \u001b[0mTimeoutError\u001b[0m\u001b[1;33m(\u001b[0m\u001b[1;33m)\u001b[0m\u001b[1;33m\u001b[0m\u001b[0m\n",
      "\u001b[1;32m~\\AppData\\Local\\Programs\\Python\\Python36\\lib\\concurrent\\futures\\_base.py\u001b[0m in \u001b[0;36m__get_result\u001b[1;34m(self)\u001b[0m\n\u001b[0;32m    382\u001b[0m     \u001b[1;32mdef\u001b[0m \u001b[0m__get_result\u001b[0m\u001b[1;33m(\u001b[0m\u001b[0mself\u001b[0m\u001b[1;33m)\u001b[0m\u001b[1;33m:\u001b[0m\u001b[1;33m\u001b[0m\u001b[0m\n\u001b[0;32m    383\u001b[0m         \u001b[1;32mif\u001b[0m \u001b[0mself\u001b[0m\u001b[1;33m.\u001b[0m\u001b[0m_exception\u001b[0m\u001b[1;33m:\u001b[0m\u001b[1;33m\u001b[0m\u001b[0m\n\u001b[1;32m--> 384\u001b[1;33m             \u001b[1;32mraise\u001b[0m \u001b[0mself\u001b[0m\u001b[1;33m.\u001b[0m\u001b[0m_exception\u001b[0m\u001b[1;33m\u001b[0m\u001b[0m\n\u001b[0m\u001b[0;32m    385\u001b[0m         \u001b[1;32melse\u001b[0m\u001b[1;33m:\u001b[0m\u001b[1;33m\u001b[0m\u001b[0m\n\u001b[0;32m    386\u001b[0m             \u001b[1;32mreturn\u001b[0m \u001b[0mself\u001b[0m\u001b[1;33m.\u001b[0m\u001b[0m_result\u001b[0m\u001b[1;33m\u001b[0m\u001b[0m\n",
      "\u001b[1;31mValueError\u001b[0m: Target is multiclass but average='binary'. Please choose another average setting."
     ]
    }
   ],
   "source": [
    "# CV\n",
    "from sklearn.model_selection import cross_val_score\n",
    "\n",
    "dtc = DecisionTreeClassifier(max_features='sqrt', min_samples_leaf=5)\n",
    "scores_iris = cross_val_score(dtc, x_iris, y_iris, cv=5, scoring='f1', n_jobs=-1)\n",
    "scores_cc = cross_val_score(dtc, x_cc, y_cc, cv=5, scoring='f1', n_jobs=-1)\n",
    "print(\"Decision Tree\")\n",
    "print(\"Zoo F1: %0.2f (+/- %0.2f)\" % (scores_iris.mean(), scores_iris.std() * 2))\n",
    "print(\"CC F1: %0.2f (+/- %0.2f)\" % (scores_cc.mean(), scores_cc.std() * 2))\n",
    "\n",
    "dtcb = DecisionTreeClassifier(max_features='sqrt', min_samples_leaf=10, class_weight='balanced')\n",
    "scores_iris = cross_val_score(dtcb, x_iris, y_iris, cv=5, scoring='f1', n_jobs=-1)\n",
    "scores_cc = cross_val_score(dtcb, x_cc, y_cc, cv=5, scoring='f1', n_jobs=-1)\n",
    "print(\"Decision Tree Balanced\")\n",
    "print(\"Zoo F1: %0.2f (+/- %0.2f)\" % (scores_iris.mean(), scores_iris.std() * 2))\n",
    "print(\"CC F1: %0.2f (+/- %0.2f)\" % (scores_cc.mean(), scores_cc.std() * 2))\n",
    "\n",
    "knn = KNeighborsClassifier()\n",
    "scores_iris = cross_val_score(knn, x_iris, y_iris, cv=5, scoring='f1', n_jobs=-1)\n",
    "scores_cc = cross_val_score(knn, x_cc, y_cc, cv=5, scoring='f1', n_jobs=-1)\n",
    "print(\"KNN\")\n",
    "print(\"Zoo F1: %0.2f (+/- %0.2f)\" % (scores_iris.mean(), scores_iris.std() * 2))\n",
    "print(\"CC F1: %0.2f (+/- %0.2f)\" % (scores_cc.mean(), scores_cc.std() * 2))\n",
    "\n",
    "mlp = MLPClassifier()\n",
    "scores_iris = cross_val_score(mlp, x_iris, y_iris, cv=5, scoring='f1', n_jobs=-1)\n",
    "scores_cc = cross_val_score(mlp, x_cc, y_cc, cv=5, scoring='f1', n_jobs=-1)\n",
    "print(\"Neural Network\")\n",
    "print(\"Zoo F1: %0.2f (+/- %0.2f)\" % (scores_iris.mean(), scores_iris.std() * 2))\n",
    "print(\"CC F1: %0.2f (+/- %0.2f)\" % (scores_cc.mean(), scores_cc.std() * 2))\n",
    "\n",
    "gb = GradientBoostingClassifier(min_samples_split=20)\n",
    "scores_iris = cross_val_score(gb, x_iris, y_iris, cv=5, scoring='f1', n_jobs=-1)\n",
    "scores_cc = cross_val_score(gb, x_cc, y_cc, cv=5, scoring='f1', n_jobs=-1)\n",
    "print(\"Gradient Boosting\")\n",
    "print(\"Zoo F1: %0.2f (+/- %0.2f)\" % (scores_iris.mean(), scores_iris.std() * 2))\n",
    "print(\"CC F1: %0.2f (+/- %0.2f)\" % (scores_cc.mean(), scores_cc.std() * 2))\n",
    "\n",
    "ada = AdaBoostClassifier()\n",
    "scores_iris = cross_val_score(ada, x_iris, y_iris, cv=5,scoring='f1', n_jobs=-1)\n",
    "scores_cc = cross_val_score(ada, x_cc, y_cc, cv=5, scoring='f1', n_jobs=-1)\n",
    "print(\"ADA Boosting\")\n",
    "print(\"Zoo F1: %0.2f (+/- %0.2f)\" % (scores_iris.mean(), scores_iris.std() * 2))\n",
    "print(\"CC F1: %0.2f (+/- %0.2f)\" % (scores_cc.mean(), scores_cc.std() * 2))\n",
    "\n",
    "svc_linear = SVC(kernel='linear')\n",
    "scores_iris = cross_val_score(svc_linear, x_iris, y_iris, cv=5, scoring='f1', n_jobs=-1)\n",
    "scores_cc = cross_val_score(svc_linear, x_cc, y_cc, cv=5, scoring='f1', n_jobs=-1)\n",
    "print(\"SVC Linear\")\n",
    "print(\"Zoo F1: %0.2f (+/- %0.2f)\" % (scores_iris.mean(), scores_iris.std() * 2))\n",
    "print(\"CC F1: %0.2f (+/- %0.2f)\" % (scores_cc.mean(), scores_cc.std() * 2))\n",
    "\n",
    "svc_rbf = SVC(kernel='rbf')\n",
    "scores_iris = cross_val_score(svc_linear, x_iris, y_iris, cv=5, scoring='f1', n_jobs=-1)\n",
    "scores_cc = cross_val_score(svc_linear, x_cc, y_cc, cv=5, scoring='f1', n_jobs=-1)\n",
    "print(\"SVC RBF\")\n",
    "print(\"Zoo F1: %0.2f (+/- %0.2f)\" % (scores_iris.mean(), scores_iris.std() * 2))\n",
    "print(\"CC F1: %0.2f (+/- %0.2f)\" % (scores_cc.mean(), scores_cc.std() * 2))\n"
   ]
  },
  {
   "cell_type": "code",
   "execution_count": 24,
   "metadata": {
    "scrolled": true
   },
   "outputs": [
    {
     "name": "stderr",
     "output_type": "stream",
     "text": [
      "C:\\Users\\kinguyen\\AppData\\Local\\Programs\\Python\\Python36\\lib\\site-packages\\sklearn\\model_selection\\_split.py:626: Warning: The least populated class in y has only 4 members, which is too few. The minimum number of members in any class cannot be less than n_splits=5.\n",
      "  % (min_groups, self.n_splits)), Warning)\n"
     ]
    },
    {
     "name": "stdout",
     "output_type": "stream",
     "text": [
      "Decision Tree\n",
      "Iris Accuracy: 0.85 (+/- 0.07)\n",
      "CC F1: 0.80 (+/- 0.79)\n"
     ]
    },
    {
     "name": "stderr",
     "output_type": "stream",
     "text": [
      "C:\\Users\\kinguyen\\AppData\\Local\\Programs\\Python\\Python36\\lib\\site-packages\\sklearn\\model_selection\\_split.py:626: Warning: The least populated class in y has only 4 members, which is too few. The minimum number of members in any class cannot be less than n_splits=5.\n",
      "  % (min_groups, self.n_splits)), Warning)\n"
     ]
    },
    {
     "name": "stdout",
     "output_type": "stream",
     "text": [
      "Decision Tree Balanced\n",
      "Iris Accuracy: 0.81 (+/- 0.22)\n",
      "CC F1: 0.99 (+/- 0.04)\n"
     ]
    },
    {
     "name": "stderr",
     "output_type": "stream",
     "text": [
      "C:\\Users\\kinguyen\\AppData\\Local\\Programs\\Python\\Python36\\lib\\site-packages\\sklearn\\model_selection\\_split.py:626: Warning: The least populated class in y has only 4 members, which is too few. The minimum number of members in any class cannot be less than n_splits=5.\n",
      "  % (min_groups, self.n_splits)), Warning)\n"
     ]
    },
    {
     "name": "stdout",
     "output_type": "stream",
     "text": [
      "KNN\n",
      "Iris Accuracy: 0.85 (+/- 0.09)\n",
      "CC F1: 0.55 (+/- 0.62)\n"
     ]
    },
    {
     "name": "stderr",
     "output_type": "stream",
     "text": [
      "C:\\Users\\kinguyen\\AppData\\Local\\Programs\\Python\\Python36\\lib\\site-packages\\sklearn\\model_selection\\_split.py:626: Warning: The least populated class in y has only 4 members, which is too few. The minimum number of members in any class cannot be less than n_splits=5.\n",
      "  % (min_groups, self.n_splits)), Warning)\n"
     ]
    },
    {
     "name": "stdout",
     "output_type": "stream",
     "text": [
      "Neural Network\n",
      "Iris Accuracy: 0.97 (+/- 0.05)\n",
      "CC F1: 1.00 (+/- 0.01)\n"
     ]
    },
    {
     "name": "stderr",
     "output_type": "stream",
     "text": [
      "C:\\Users\\kinguyen\\AppData\\Local\\Programs\\Python\\Python36\\lib\\site-packages\\sklearn\\model_selection\\_split.py:626: Warning: The least populated class in y has only 4 members, which is too few. The minimum number of members in any class cannot be less than n_splits=5.\n",
      "  % (min_groups, self.n_splits)), Warning)\n"
     ]
    },
    {
     "name": "stdout",
     "output_type": "stream",
     "text": [
      "Gradient Boosting\n",
      "Iris Accuracy: 0.95 (+/- 0.12)\n",
      "CC F1: 0.80 (+/- 0.79)\n"
     ]
    },
    {
     "name": "stderr",
     "output_type": "stream",
     "text": [
      "C:\\Users\\kinguyen\\AppData\\Local\\Programs\\Python\\Python36\\lib\\site-packages\\sklearn\\model_selection\\_split.py:626: Warning: The least populated class in y has only 4 members, which is too few. The minimum number of members in any class cannot be less than n_splits=5.\n",
      "  % (min_groups, self.n_splits)), Warning)\n"
     ]
    },
    {
     "name": "stdout",
     "output_type": "stream",
     "text": [
      "ADA Boosting\n",
      "Iris Accuracy: 0.73 (+/- 0.05)\n",
      "CC F1: 0.85 (+/- 0.59)\n"
     ]
    },
    {
     "name": "stderr",
     "output_type": "stream",
     "text": [
      "C:\\Users\\kinguyen\\AppData\\Local\\Programs\\Python\\Python36\\lib\\site-packages\\sklearn\\model_selection\\_split.py:626: Warning: The least populated class in y has only 4 members, which is too few. The minimum number of members in any class cannot be less than n_splits=5.\n",
      "  % (min_groups, self.n_splits)), Warning)\n"
     ]
    },
    {
     "name": "stdout",
     "output_type": "stream",
     "text": [
      "SVC Linear\n",
      "Iris Accuracy: 0.96 (+/- 0.07)\n",
      "CC F1: 0.99 (+/- 0.04)\n"
     ]
    },
    {
     "name": "stderr",
     "output_type": "stream",
     "text": [
      "C:\\Users\\kinguyen\\AppData\\Local\\Programs\\Python\\Python36\\lib\\site-packages\\sklearn\\model_selection\\_split.py:626: Warning: The least populated class in y has only 4 members, which is too few. The minimum number of members in any class cannot be less than n_splits=5.\n",
      "  % (min_groups, self.n_splits)), Warning)\n"
     ]
    },
    {
     "name": "stdout",
     "output_type": "stream",
     "text": [
      "SVC RBF\n",
      "Iris Accuracy: 0.96 (+/- 0.07)\n",
      "CC F1: 0.99 (+/- 0.04)\n"
     ]
    }
   ],
   "source": [
    "# CV\n",
    "from sklearn.model_selection import cross_val_score\n",
    "\n",
    "dtc = DecisionTreeClassifier(max_features='sqrt', min_samples_leaf=5)\n",
    "scores_iris = cross_val_score(dtc, x_iris, y_iris, cv=5, n_jobs=-1)\n",
    "scores_cc = cross_val_score(dtc, x_cc, y_cc, cv=5, scoring='f1_weighted', n_jobs=-1)\n",
    "print(\"Decision Tree\")\n",
    "print(\"Iris Accuracy: %0.2f (+/- %0.2f)\" % (scores_iris.mean(), scores_iris.std() * 2))\n",
    "print(\"CC F1: %0.2f (+/- %0.2f)\" % (scores_cc.mean(), scores_cc.std() * 2))\n",
    "\n",
    "dtcb = DecisionTreeClassifier(max_features='sqrt', min_samples_leaf=5, class_weight='balanced')\n",
    "scores_iris = cross_val_score(dtcb, x_iris, y_iris, cv=5, n_jobs=-1)\n",
    "scores_cc = cross_val_score(dtcb, x_cc, y_cc, cv=5, scoring='f1_weighted', n_jobs=-1)\n",
    "print(\"Decision Tree Balanced\")\n",
    "print(\"Iris Accuracy: %0.2f (+/- %0.2f)\" % (scores_iris.mean(), scores_iris.std() * 2))\n",
    "print(\"CC F1: %0.2f (+/- %0.2f)\" % (scores_cc.mean(), scores_cc.std() * 2))\n",
    "\n",
    "knn = KNeighborsClassifier()\n",
    "scores_iris = cross_val_score(knn, x_iris, y_iris, cv=5, n_jobs=-1)\n",
    "scores_cc = cross_val_score(knn, x_cc, y_cc, cv=5, scoring='f1_weighted', n_jobs=-1)\n",
    "print(\"KNN\")\n",
    "print(\"Iris Accuracy: %0.2f (+/- %0.2f)\" % (scores_iris.mean(), scores_iris.std() * 2))\n",
    "print(\"CC F1: %0.2f (+/- %0.2f)\" % (scores_cc.mean(), scores_cc.std() * 2))\n",
    "\n",
    "mlp = MLPClassifier()\n",
    "scores_iris = cross_val_score(mlp, x_iris, y_iris, cv=5, n_jobs=-1)\n",
    "scores_cc = cross_val_score(mlp, x_cc, y_cc, cv=5, scoring='f1_weighted', n_jobs=-1)\n",
    "print(\"Neural Network\")\n",
    "print(\"Iris Accuracy: %0.2f (+/- %0.2f)\" % (scores_iris.mean(), scores_iris.std() * 2))\n",
    "print(\"CC F1: %0.2f (+/- %0.2f)\" % (scores_cc.mean(), scores_cc.std() * 2))\n",
    "\n",
    "gb = GradientBoostingClassifier(min_samples_split=20)\n",
    "scores_iris = cross_val_score(gb, x_iris, y_iris, cv=5, n_jobs=-1)\n",
    "scores_cc = cross_val_score(gb, x_cc, y_cc, cv=5, scoring='f1_weighted', n_jobs=-1)\n",
    "print(\"Gradient Boosting\")\n",
    "print(\"Iris Accuracy: %0.2f (+/- %0.2f)\" % (scores_iris.mean(), scores_iris.std() * 2))\n",
    "print(\"CC F1: %0.2f (+/- %0.2f)\" % (scores_cc.mean(), scores_cc.std() * 2))\n",
    "\n",
    "ada = AdaBoostClassifier()\n",
    "scores_iris = cross_val_score(ada, x_iris, y_iris, cv=5, n_jobs=-1)\n",
    "scores_cc = cross_val_score(ada, x_cc, y_cc, cv=5, scoring='f1_weighted', n_jobs=-1)\n",
    "print(\"ADA Boosting\")\n",
    "print(\"Iris Accuracy: %0.2f (+/- %0.2f)\" % (scores_iris.mean(), scores_iris.std() * 2))\n",
    "print(\"CC F1: %0.2f (+/- %0.2f)\" % (scores_cc.mean(), scores_cc.std() * 2))\n",
    "\n",
    "svc_linear = SVC(kernel='linear')\n",
    "scores_iris = cross_val_score(svc_linear, x_iris, y_iris, cv=5, n_jobs=-1)\n",
    "scores_cc = cross_val_score(svc_linear, x_cc, y_cc, cv=5, scoring='f1_weighted', n_jobs=-1)\n",
    "print(\"SVC Linear\")\n",
    "print(\"Iris Accuracy: %0.2f (+/- %0.2f)\" % (scores_iris.mean(), scores_iris.std() * 2))\n",
    "print(\"CC F1: %0.2f (+/- %0.2f)\" % (scores_cc.mean(), scores_cc.std() * 2))\n",
    "\n",
    "svc_rbf = SVC(kernel='rbf')\n",
    "scores_iris = cross_val_score(svc_linear, x_iris, y_iris, cv=5, n_jobs=-1)\n",
    "scores_cc = cross_val_score(svc_linear, x_cc, y_cc, cv=5, scoring='f1_weighted', n_jobs=-1)\n",
    "print(\"SVC RBF\")\n",
    "print(\"Iris Accuracy: %0.2f (+/- %0.2f)\" % (scores_iris.mean(), scores_iris.std() * 2))\n",
    "print(\"CC F1: %0.2f (+/- %0.2f)\" % (scores_cc.mean(), scores_cc.std() * 2))\n",
    "\n",
    "# svc_linear = svm.SVC(kernel='linear')\n",
    "# scores_iris = cross_val_score(svc_linear, x_iris, y_iris, cv=5)\n",
    "# scores_cc = cross_val_score(svc_linear, x_cc, y_cc, cv=5)\n",
    "# print(\"SVC Linear\")\n",
    "# print(\"Iris Accuracy: %0.2f (+/- %0.2f)\" % (scores_iris.mean(), scores_iris.std() * 2))\n",
    "# print(\"CC Accuracy: %0.2f (+/- %0.2f)\" % (scores_cc.mean(), scores_cc.std() * 2))"
   ]
  },
  {
   "cell_type": "code",
   "execution_count": null,
   "metadata": {
    "scrolled": false
   },
   "outputs": [],
   "source": [
    "# CV with Recall\n",
    "\n",
    "dtc = DecisionTreeClassifier(max_features='sqrt', min_samples_leaf=5)\n",
    "scores_iris = cross_val_score(dtc, x_iris, y_iris, cv=5, n_jobs=-1)\n",
    "scores_cc = cross_val_score(dtc, x_cc, y_cc, cv=5, scoring='recall', n_jobs=-1)\n",
    "print(\"Decision Tree\")\n",
    "print(\"Zoo Recall: %0.2f (+/- %0.2f)\" % (scores_iris.mean(), scores_iris.std() * 2))\n",
    "print(\"CC Recall: %0.2f (+/- %0.2f)\" % (scores_cc.mean(), scores_cc.std() * 2))\n",
    "\n",
    "dtcb = DecisionTreeClassifier(max_features='sqrt', min_samples_leaf=5, class_weight='balanced')\n",
    "scores_iris = cross_val_score(dtcb, x_iris, y_iris, cv=5, n_jobs=-1)\n",
    "scores_cc = cross_val_score(dtcb, x_cc, y_cc, cv=5, scoring='recall', n_jobs=-1)\n",
    "print(\"Decision Tree Balanced\")\n",
    "print(\"Zoo Recall: %0.2f (+/- %0.2f)\" % (scores_iris.mean(), scores_iris.std() * 2))\n",
    "print(\"CC Recall: %0.2f (+/- %0.2f)\" % (scores_cc.mean(), scores_cc.std() * 2))\n",
    "\n",
    "knn = KNeighborsClassifier()\n",
    "scores_iris = cross_val_score(knn, x_iris, y_iris, cv=5, n_jobs=-1)\n",
    "scores_cc = cross_val_score(knn, x_cc, y_cc, cv=5, scoring='recall', n_jobs=-1)\n",
    "print(\"KNN\")\n",
    "print(\"Zoo Recall: %0.2f (+/- %0.2f)\" % (scores_iris.mean(), scores_iris.std() * 2))\n",
    "print(\"CC Recall: %0.2f (+/- %0.2f)\" % (scores_cc.mean(), scores_cc.std() * 2))\n",
    "\n",
    "mlp = MLPClassifier()\n",
    "scores_iris = cross_val_score(mlp, x_iris, y_iris, cv=5, n_jobs=-1)\n",
    "scores_cc = cross_val_score(mlp, x_cc, y_cc, cv=5, scoring='recall', n_jobs=-1)\n",
    "print(\"Neural Network\")\n",
    "print(\"Zoo Recall: %0.2f (+/- %0.2f)\" % (scores_iris.mean(), scores_iris.std() * 2))\n",
    "print(\"CC Recall: %0.2f (+/- %0.2f)\" % (scores_cc.mean(), scores_cc.std() * 2))\n",
    "\n",
    "gb = GradientBoostingClassifier(min_samples_split=20)\n",
    "scores_iris = cross_val_score(gb, x_iris, y_iris, cv=5, n_jobs=-1)\n",
    "scores_cc = cross_val_score(gb, x_cc, y_cc, cv=5, scoring='recall', n_jobs=-1)\n",
    "print(\"Gradient Boosting\")\n",
    "print(\"Zoo Recall: %0.2f (+/- %0.2f)\" % (scores_iris.mean(), scores_iris.std() * 2))\n",
    "print(\"CC Recall: %0.2f (+/- %0.2f)\" % (scores_cc.mean(), scores_cc.std() * 2))\n",
    "\n",
    "ada = AdaBoostClassifier()\n",
    "scores_iris = cross_val_score(ada, x_iris, y_iris, cv=5,n_jobs=-1)\n",
    "scores_cc = cross_val_score(ada, x_cc, y_cc, cv=5, scoring='recall', n_jobs=-1)\n",
    "print(\"ADA Boosting\")\n",
    "print(\"Zoo Recall: %0.2f (+/- %0.2f)\" % (scores_iris.mean(), scores_iris.std() * 2))\n",
    "print(\"CC Recall: %0.2f (+/- %0.2f)\" % (scores_cc.mean(), scores_cc.std() * 2))\n",
    "\n",
    "svc_linear = SVC(kernel='linear')\n",
    "scores_iris = cross_val_score(svc_linear, x_iris, y_iris, cv=5n_jobs=-1)\n",
    "scores_cc = cross_val_score(svc_linear, x_cc, y_cc, cv=5, scoring='recall', n_jobs=-1)\n",
    "print(\"SVC Linear\")\n",
    "print(\"Zoo Recall: %0.2f (+/- %0.2f)\" % (scores_iris.mean(), scores_iris.std() * 2))\n",
    "print(\"CC Recall: %0.2f (+/- %0.2f)\" % (scores_cc.mean(), scores_cc.std() * 2))\n",
    "\n",
    "svc_rbf = SVC(kernel='rbf')\n",
    "scores_iris = cross_val_score(svc_linear, x_iris, y_iris, cv=5,n_jobs=-1)\n",
    "scores_cc = cross_val_score(svc_linear, x_cc, y_cc, cv=5, scoring='recall', n_jobs=-1)\n",
    "print(\"SVC RBF\")\n",
    "print(\"Zoo Recall: %0.2f (+/- %0.2f)\" % (scores_iris.mean(), scores_iris.std() * 2))\n",
    "print(\"CC Recall: %0.2f (+/- %0.2f)\" % (scores_cc.mean(), scores_cc.std() * 2))\n"
   ]
  },
  {
   "cell_type": "code",
   "execution_count": 26,
   "metadata": {},
   "outputs": [
    {
     "name": "stderr",
     "output_type": "stream",
     "text": [
      "C:\\Users\\kinguyen\\AppData\\Local\\Programs\\Python\\Python36\\lib\\site-packages\\sklearn\\model_selection\\_split.py:626: Warning: The least populated class in y has only 4 members, which is too few. The minimum number of members in any class cannot be less than n_splits=5.\n",
      "  % (min_groups, self.n_splits)), Warning)\n"
     ]
    },
    {
     "name": "stdout",
     "output_type": "stream",
     "text": [
      "SVC Linear\n",
      "Iris Accuracy: 0.96 (+/- 0.07)\n",
      "CC F1: 0.34 (+/- 0.65)\n"
     ]
    },
    {
     "name": "stderr",
     "output_type": "stream",
     "text": [
      "C:\\Users\\kinguyen\\AppData\\Local\\Programs\\Python\\Python36\\lib\\site-packages\\sklearn\\model_selection\\_split.py:626: Warning: The least populated class in y has only 4 members, which is too few. The minimum number of members in any class cannot be less than n_splits=5.\n",
      "  % (min_groups, self.n_splits)), Warning)\n"
     ]
    },
    {
     "name": "stdout",
     "output_type": "stream",
     "text": [
      "SVC RBF\n",
      "Iris Accuracy: 0.96 (+/- 0.07)\n",
      "CC F1: 0.34 (+/- 0.65)\n"
     ]
    }
   ],
   "source": []
  },
  {
   "cell_type": "code",
   "execution_count": null,
   "metadata": {},
   "outputs": [],
   "source": []
  }
 ],
 "metadata": {
  "kernelspec": {
   "display_name": "Python 3",
   "language": "python",
   "name": "python3"
  },
  "language_info": {
   "codemirror_mode": {
    "name": "ipython",
    "version": 3
   },
   "file_extension": ".py",
   "mimetype": "text/x-python",
   "name": "python",
   "nbconvert_exporter": "python",
   "pygments_lexer": "ipython3",
   "version": "3.6.5"
  }
 },
 "nbformat": 4,
 "nbformat_minor": 2
}
